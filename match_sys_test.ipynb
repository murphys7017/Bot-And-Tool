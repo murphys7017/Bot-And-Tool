{
 "cells": [
  {
   "cell_type": "code",
   "execution_count": null,
   "metadata": {},
   "outputs": [],
   "source": [
    "from service import config\n",
    "config.initialize()\n",
    "\n",
    "from service.MatchSys import MatchSys\n",
    "ms = MatchSys(\n",
    "        name='teat_sys',\n",
    "        ltp_model_path=r'D:\\Code\\MyLongTimeProject\\A\\QQ-Bot-And-Tool\\data\\LtpModel',\n",
    "        database_uri='sqlite:///data/db.sqlite3',\n",
    "        text_vec_model_path=r'D:\\Code\\MyLongTimeProject\\A\\QQ-Bot-And-Tool\\data\\model.pkl',\n",
    "        vector_similarity_rate=0.7,\n",
    "        most_similar_number=10,\n",
    "        vector_match_times=5,\n",
    "\n",
    "    )\n",
    "\n",
    "@ms.handle_function_declaration(commands = ['天气怎么样'])\n",
    "def get_weather_abstract_by_hefeng(input_statement):\n",
    "    import requests\n",
    "    from bs4 import BeautifulSoup\n",
    "    get_location_url = 'https://geoapi.qweather.com/v2/city/lookup'\n",
    "    address = input_statement.text.split('天气怎么样')[0]\n",
    "    get_loction_params = {\n",
    "        'key': config.SERVICE_CONFIG.he_feng_key,\n",
    "        'location': address\n",
    "    }\n",
    "    location_data = requests.get(get_location_url,get_loction_params).json()\n",
    "    print(location_data)\n",
    "    location_data = location_data['location'][0]\n",
    "    page = requests.get(location_data['fxLink'])\n",
    "    soup = BeautifulSoup(page.text, 'html.parser')\n",
    "    abstract = soup.find_all('div', class_='current-abstract')[0]\n",
    "    return abstract.text.strip() + '\\n 详细信息：'+location_data['fxLink']"
   ]
  },
  {
   "cell_type": "code",
   "execution_count": null,
   "metadata": {},
   "outputs": [],
   "source": [
    "import pandas as pd\n",
    "map = {}\n",
    "# data = pd.read_excel(r'C:\\Users\\Administrator\\Documents\\GitHub\\QQ-Bot-And-Tool\\data\\FixedReply\\傲娇系二次元bot词库5千词V1.2.xlsx',header=None, sheet_name=0)\n",
    "data = pd.read_excel(r\"D:\\temp\\Downloads\\傲娇系二次元bot词库5千词V1.2.xlsx\",header=None, sheet_name=0)\n",
    "for index,row in data.iterrows():\n",
    "    if row[0] in map:\n",
    "        map[row[0]].append(row[1])\n",
    "    else:\n",
    "        map[row[0]] = [row[1]]\n",
    "from service.MatchSys.trainer import QATrainer\n",
    "trainer = QATrainer(ms)\n"
   ]
  },
  {
   "cell_type": "code",
   "execution_count": null,
   "metadata": {},
   "outputs": [],
   "source": [
    "trainer.train(map)"
   ]
  },
  {
   "cell_type": "code",
   "execution_count": null,
   "metadata": {},
   "outputs": [],
   "source": [
    "ms.get_response('石家庄天气怎么样')"
   ]
  },
  {
   "cell_type": "code",
   "execution_count": 1,
   "metadata": {},
   "outputs": [
    {
     "name": "stdout",
     "output_type": "stream",
     "text": [
      "1715766166338805760\n",
      "Loading weights from local directory\n",
      "# jionlp - 微信公众号: JioNLP  Github: `https://github.com/dongrixinyu/JioNLP`.\n",
      "# jiojio - `http://www.jionlp.com/jionlp_online/cws_pos` is available for online trial.\n",
      "Parrot started\n"
     ]
    }
   ],
   "source": [
    "from service import config\n",
    "config.initialize()\n",
    "\n",
    "from service.MatchSys import MatchSys\n",
    "ms = MatchSys(\n",
    "        name='teat_sys',\n",
    "        ltp_model_path=r'C:\\Users\\Administrator\\Documents\\GitHub\\QQ-Bot-And-Tool\\data\\LtpModel',\n",
    "        database_uri='sqlite:///data/db.sqlite3',\n",
    "        text_vec_model_path=r'C:\\Users\\Administrator\\Documents\\GitHub\\QQ-Bot-And-Tool\\data\\model.pkl',\n",
    "        vector_similarity_rate=0.7,\n",
    "        most_similar_number=10,\n",
    "        vector_match_times=5,\n",
    "\n",
    "    )\n",
    "\n",
    "@ms.handle_function_declaration(commands = ['天气怎么样'])\n",
    "def get_weather_abstract_by_hefeng(input_statement):\n",
    "    import requests\n",
    "    from bs4 import BeautifulSoup\n",
    "    get_location_url = 'https://geoapi.qweather.com/v2/city/lookup'\n",
    "    address = input_statement.text.split('天气怎么样')[0]\n",
    "    get_loction_params = {\n",
    "        'key': config.SERVICE_CONFIG.he_feng_key,\n",
    "        'location': address\n",
    "    }\n",
    "    location_data = requests.get(get_location_url,get_loction_params).json()\n",
    "    print(location_data)\n",
    "    location_data = location_data['location'][0]\n",
    "    page = requests.get(location_data['fxLink'])\n",
    "    soup = BeautifulSoup(page.text, 'html.parser')\n",
    "    abstract = soup.find_all('div', class_='current-abstract')[0]\n",
    "    return abstract.text.strip() + '\\n 详细信息：'+location_data['fxLink']"
   ]
  },
  {
   "cell_type": "code",
   "execution_count": 2,
   "metadata": {},
   "outputs": [
    {
     "name": "stdout",
     "output_type": "stream",
     "text": [
      "<class 'service.MatchSys.object_definition.Statement'>\n"
     ]
    },
    {
     "ename": "",
     "evalue": "",
     "output_type": "error",
     "traceback": [
      "\u001b[1;31mThe Kernel crashed while executing code in the the current cell or a previous cell. Please review the code in the cell(s) to identify a possible cause of the failure. Click <a href='https://aka.ms/vscodeJupyterKernelCrash'>here</a> for more info. View Jupyter <a href='command:jupyter.viewOutput'>log</a> for further details."
     ]
    }
   ],
   "source": [
    "ms.get_response('我爱你')"
   ]
  }
 ],
 "metadata": {
  "kernelspec": {
   "display_name": "base",
   "language": "python",
   "name": "python3"
  },
  "language_info": {
   "codemirror_mode": {
    "name": "ipython",
    "version": 3
   },
   "file_extension": ".py",
   "mimetype": "text/x-python",
   "name": "python",
   "nbconvert_exporter": "python",
   "pygments_lexer": "ipython3",
   "version": "3.11.5"
  }
 },
 "nbformat": 4,
 "nbformat_minor": 2
}
