{
 "cells": [
  {
   "cell_type": "code",
   "execution_count": 1,
   "metadata": {},
   "outputs": [
    {
     "name": "stdout",
     "output_type": "stream",
     "text": [
      "Starting initialization of ModelBase\n",
      "Starting initialization of MatchSys\n",
      "Use pytorch device: cuda\n"
     ]
    }
   ],
   "source": [
    "import sys\n",
    "# sys.path.append(r\"C:\\Users\\Administrator\\Documents\\GitHub\\QQ-Bot-And-Tool\") \n",
    "from MatchSys import config\n",
    "\n",
    "\n",
    "from MatchSys import MatchSys\n",
    "ms = MatchSys(\n",
    "        name='teat_sys',\n",
    "        ltp_model_path=r'data\\LtpModel',\n",
    "        database_uri='sqlite:///data/db.sqlite3',\n",
    "        text_vec_model_path=r'data\\model.bin',\n",
    "        vector_similarity_rate=0.7,\n",
    "        most_similar_number=10,\n",
    "        vector_match_times=5,\n",
    "        need_ltp=False,\n",
    "        search_adapters_name_list=['MatchSys.search.TextSearch','MatchSys.search.FaissSearch'],\n",
    "        signal_file_size=10000\n",
    "    )"
   ]
  },
  {
   "cell_type": "code",
   "execution_count": 2,
   "metadata": {},
   "outputs": [
    {
     "name": "stdout",
     "output_type": "stream",
     "text": [
      "----\n",
      "[[3.1761438e-10 3.1761438e-10 5.5545631e+01 5.5545631e+01 1.0104325e+02]]\n",
      "----\n",
      "[[1724673099296804864 1724678250967470082 1724673119697899522\n",
      "  1724678274178748418 1724673187742093315]]\n"
     ]
    },
    {
     "ename": "ValueError",
     "evalue": "operands could not be broadcast together with shapes (2,) (1,5) ",
     "output_type": "error",
     "traceback": [
      "\u001b[1;31m---------------------------------------------------------------------------\u001b[0m",
      "\u001b[1;31mValueError\u001b[0m                                Traceback (most recent call last)",
      "\u001b[1;32md:\\Code\\MyLongTimeProject\\Bot-And-Tool\\match_sys_test.ipynb Cell 2\u001b[0m line \u001b[0;36m1\n\u001b[1;32m----> <a href='vscode-notebook-cell:/d%3A/Code/MyLongTimeProject/Bot-And-Tool/match_sys_test.ipynb#X15sZmlsZQ%3D%3D?line=0'>1</a>\u001b[0m ms\u001b[39m.\u001b[39;49mget_response(\u001b[39m'\u001b[39;49m\u001b[39m我喜欢你\u001b[39;49m\u001b[39m'\u001b[39;49m)\n",
      "File \u001b[1;32md:\\Code\\MyLongTimeProject\\Bot-And-Tool\\MatchSys\\utils\\__init__.py:14\u001b[0m, in \u001b[0;36mget_time.<locals>.inner\u001b[1;34m(*arg, **kwarg)\u001b[0m\n\u001b[0;32m     12\u001b[0m \u001b[39mdef\u001b[39;00m \u001b[39minner\u001b[39m(\u001b[39m*\u001b[39marg,\u001b[39m*\u001b[39m\u001b[39m*\u001b[39mkwarg):\n\u001b[0;32m     13\u001b[0m     start \u001b[39m=\u001b[39m time\u001b[39m.\u001b[39mperf_counter()\n\u001b[1;32m---> 14\u001b[0m     res \u001b[39m=\u001b[39m f(\u001b[39m*\u001b[39marg,\u001b[39m*\u001b[39m\u001b[39m*\u001b[39mkwarg)\n\u001b[0;32m     15\u001b[0m     end \u001b[39m=\u001b[39m time\u001b[39m.\u001b[39mperf_counter()\n\u001b[0;32m     16\u001b[0m     \u001b[39mprint\u001b[39m(\u001b[39m'\u001b[39m\u001b[39m{}\u001b[39;00m\u001b[39m \u001b[39m\u001b[39m\\t\u001b[39;00m\u001b[39m - \u001b[39m\u001b[39m\\t\u001b[39;00m\u001b[39m 耗时：\u001b[39m\u001b[39m{}\u001b[39;00m\u001b[39m秒\u001b[39m\u001b[39m'\u001b[39m\u001b[39m.\u001b[39mformat(f\u001b[39m.\u001b[39m\u001b[39m__qualname__\u001b[39m, end \u001b[39m-\u001b[39m start))\n",
      "File \u001b[1;32md:\\Code\\MyLongTimeProject\\Bot-And-Tool\\MatchSys\\match_sys.py:216\u001b[0m, in \u001b[0;36mMatchSys.get_response\u001b[1;34m(self, message, **kwargs)\u001b[0m\n\u001b[0;32m    212\u001b[0m         \u001b[39mself\u001b[39m\u001b[39m.\u001b[39mchat_history[\u001b[39m0\u001b[39m]\u001b[39m.\u001b[39mnext_id \u001b[39m=\u001b[39m response\u001b[39m.\u001b[39mid\n\u001b[0;32m    214\u001b[0m \u001b[39mif\u001b[39;00m response \u001b[39mis\u001b[39;00m \u001b[39mNone\u001b[39;00m:\n\u001b[0;32m    215\u001b[0m     \u001b[39m# 生成响应Statement\u001b[39;00m\n\u001b[1;32m--> 216\u001b[0m     response \u001b[39m=\u001b[39m \u001b[39mself\u001b[39;49m\u001b[39m.\u001b[39;49mgenerate_response(input_statement)\n\u001b[0;32m    219\u001b[0m \u001b[39m# if not self.read_only:\u001b[39;00m\n\u001b[0;32m    220\u001b[0m     \u001b[39m# self.learn_response(input_statement)\u001b[39;00m\n\u001b[0;32m    221\u001b[0m \n\u001b[0;32m    222\u001b[0m     \u001b[39m# Save the response generated for the input\u001b[39;00m\n\u001b[0;32m    223\u001b[0m     \u001b[39m# self.storage.create(**response.serialize())\u001b[39;00m\n\u001b[0;32m    224\u001b[0m \u001b[39m# delete\u001b[39;00m\n\u001b[0;32m    225\u001b[0m \u001b[39mif\u001b[39;00m response \u001b[39mis\u001b[39;00m \u001b[39mnot\u001b[39;00m \u001b[39mNone\u001b[39;00m:\n",
      "File \u001b[1;32md:\\Code\\MyLongTimeProject\\Bot-And-Tool\\MatchSys\\match_sys.py:251\u001b[0m, in \u001b[0;36mMatchSys.generate_response\u001b[1;34m(self, input_statement)\u001b[0m\n\u001b[0;32m    249\u001b[0m search_results \u001b[39m=\u001b[39m []\n\u001b[0;32m    250\u001b[0m \u001b[39mfor\u001b[39;00m search_adapter \u001b[39min\u001b[39;00m  \u001b[39mself\u001b[39m\u001b[39m.\u001b[39msearch_adapters:\n\u001b[1;32m--> 251\u001b[0m     search_results \u001b[39m=\u001b[39m search_results \u001b[39m+\u001b[39;49m search_adapter\u001b[39m.\u001b[39;49msearch(input_statement)\n\u001b[0;32m    252\u001b[0m search_results\u001b[39m=\u001b[39m\u001b[39mlist\u001b[39m(\u001b[39mset\u001b[39m(search_results))\n\u001b[0;32m    254\u001b[0m search_results \u001b[39m=\u001b[39m \u001b[39mself\u001b[39m\u001b[39m.\u001b[39mbuild_statement_chain(search_results)\n",
      "\u001b[1;31mValueError\u001b[0m: operands could not be broadcast together with shapes (2,) (1,5) "
     ]
    }
   ],
   "source": [
    "ms.get_response('我喜欢你')"
   ]
  },
  {
   "cell_type": "code",
   "execution_count": null,
   "metadata": {},
   "outputs": [],
   "source": [
    "from MatchSys.trainer.base_qa_trainer import QATrainer\n",
    "\n",
    "trainer = QATrainer(ms)\n",
    "\n",
    "import pandas as pd\n",
    "map = {}\n",
    "data = pd.read_excel(r\"data\\FixedReply\\Test-1K.xlsx\",header=None, sheet_name=0)\n",
    "for index,row in data.iterrows():\n",
    "    row[0] = str(row[0]).strip()\n",
    "    row[1] = str(row[1]).strip()\n",
    "    if row[0] in map:\n",
    "        map[row[0]].append(row[1])\n",
    "    else:\n",
    "        map[row[0]] = [row[1]]\n",
    "  \n",
    "        \n",
    "trainer.train(map)"
   ]
  },
  {
   "cell_type": "code",
   "execution_count": null,
   "metadata": {},
   "outputs": [],
   "source": [
    "from MatchSys.trainer.base_chat_list_trainer import ChatListTrainer\n",
    "\n",
    "trainer = ChatListTrainer(ms)\n",
    "data = [\n",
    "    [\n",
    "        '可战争在哪儿？现在全球一处热点都没有，应该是历史上最和平的年代了。',\n",
    "        '没有。',\n",
    "        '那你的生活是一种偶然，世界有这么多变幻莫测的因素，你的人生却没什么变故。',\n",
    "        '大部分人都是这样嘛。',\n",
    "        '那大部分人的人生都是偶然。',\n",
    "        '可......多少代人都是这么平淡地过来的。',\n",
    "        '都是偶然。',\n",
    "        '得承认今天我的理解力太差了，您这岂不是说......',\n",
    "        '是的，整个人类历史也是偶然，从石器时代到今天，都没什么重大变故，真幸运。但既然是幸运，总有结束的一天；现在我告诉你，结束了，做好思想准备吧。',\n",
    "    ]\n",
    "]\n",
    "        \n",
    "trainer.train(data)"
   ]
  },
  {
   "cell_type": "code",
   "execution_count": null,
   "metadata": {},
   "outputs": [],
   "source": [
    "len(ms.search_adapters[0].model.dv.index_to_key)"
   ]
  },
  {
   "cell_type": "code",
   "execution_count": null,
   "metadata": {},
   "outputs": [],
   "source": [
    "while True:\n",
    "    message = input('>')\n",
    "    if message == 'exit':\n",
    "        break\n",
    "    else:\n",
    "        print(ms.get_response(message))"
   ]
  },
  {
   "cell_type": "code",
   "execution_count": 1,
   "metadata": {},
   "outputs": [
    {
     "data": {
      "text/plain": [
       "True"
      ]
     },
     "execution_count": 1,
     "metadata": {},
     "output_type": "execute_result"
    }
   ],
   "source": [
    "import torch\n",
    "torch.cuda.is_available()\n"
   ]
  }
 ],
 "metadata": {
  "kernelspec": {
   "display_name": "base",
   "language": "python",
   "name": "python3"
  },
  "language_info": {
   "codemirror_mode": {
    "name": "ipython",
    "version": 3
   },
   "file_extension": ".py",
   "mimetype": "text/x-python",
   "name": "python",
   "nbconvert_exporter": "python",
   "pygments_lexer": "ipython3",
   "version": "3.10.13"
  }
 },
 "nbformat": 4,
 "nbformat_minor": 2
}
