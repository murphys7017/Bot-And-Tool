{
 "cells": [
  {
   "cell_type": "code",
   "execution_count": 2,
   "metadata": {},
   "outputs": [
    {
     "name": "stdout",
     "output_type": "stream",
     "text": [
      "{'code': '200', 'location': [{'name': '石家庄', 'id': '101090101', 'lat': '38.04548', 'lon': '114.50246', 'adm2': '石家庄', 'adm1': '河北省', 'country': '中国', 'tz': 'Asia/Shanghai', 'utcOffset': '+08:00', 'isDst': '0', 'type': 'city', 'rank': '11', 'fxLink': 'https://www.qweather.com/weather/shijiazhuang-101090101.html'}, {'name': '井陉', 'id': '101090102', 'lat': '38.03362', 'lon': '114.14449', 'adm2': '石家庄', 'adm1': '河北省', 'country': '中国', 'tz': 'Asia/Shanghai', 'utcOffset': '+08:00', 'isDst': '0', 'type': 'city', 'rank': '35', 'fxLink': 'https://www.qweather.com/weather/jingxing-101090102.html'}, {'name': '行唐', 'id': '101090105', 'lat': '38.43742', 'lon': '114.55273', 'adm2': '石家庄', 'adm1': '河北省', 'country': '中国', 'tz': 'Asia/Shanghai', 'utcOffset': '+08:00', 'isDst': '0', 'type': 'city', 'rank': '33', 'fxLink': 'https://www.qweather.com/weather/xingtang-101090105.html'}, {'name': '赞皇', 'id': '101090109', 'lat': '37.66020', 'lon': '114.38776', 'adm2': '石家庄', 'adm1': '河北省', 'country': '中国', 'tz': 'Asia/Shanghai', 'utcOffset': '+08:00', 'isDst': '0', 'type': 'city', 'rank': '43', 'fxLink': 'https://www.qweather.com/weather/zanhuang-101090109.html'}, {'name': '井陉矿区', 'id': '101090122', 'lat': '38.06975', 'lon': '114.05818', 'adm2': '石家庄', 'adm1': '河北省', 'country': '中国', 'tz': 'Asia/Shanghai', 'utcOffset': '+08:00', 'isDst': '0', 'type': 'city', 'rank': '45', 'fxLink': 'https://www.qweather.com/weather/jingxing-mining-district-101090122.html'}, {'name': '栾城', 'id': '101090104', 'lat': '37.88691', 'lon': '114.65428', 'adm2': '石家庄', 'adm1': '河北省', 'country': '中国', 'tz': 'Asia/Shanghai', 'utcOffset': '+08:00', 'isDst': '0', 'type': 'city', 'rank': '33', 'fxLink': 'https://www.qweather.com/weather/luancheng-101090104.html'}, {'name': '灵寿', 'id': '101090106', 'lat': '38.30655', 'lon': '114.37946', 'adm2': '石家庄', 'adm1': '河北省', 'country': '中国', 'tz': 'Asia/Shanghai', 'utcOffset': '+08:00', 'isDst': '0', 'type': 'city', 'rank': '33', 'fxLink': 'https://www.qweather.com/weather/lingshou-101090106.html'}, {'name': '高邑', 'id': '101090107', 'lat': '37.60571', 'lon': '114.61070', 'adm2': '石家庄', 'adm1': '河北省', 'country': '中国', 'tz': 'Asia/Shanghai', 'utcOffset': '+08:00', 'isDst': '0', 'type': 'city', 'rank': '43', 'fxLink': 'https://www.qweather.com/weather/gaoyi-101090107.html'}, {'name': '元氏', 'id': '101090112', 'lat': '37.76251', 'lon': '114.52618', 'adm2': '石家庄', 'adm1': '河北省', 'country': '中国', 'tz': 'Asia/Shanghai', 'utcOffset': '+08:00', 'isDst': '0', 'type': 'city', 'rank': '35', 'fxLink': 'https://www.qweather.com/weather/yuanshi-101090112.html'}, {'name': '赵县', 'id': '101090113', 'lat': '37.75434', 'lon': '114.77536', 'adm2': '石家庄', 'adm1': '河北省', 'country': '中国', 'tz': 'Asia/Shanghai', 'utcOffset': '+08:00', 'isDst': '0', 'type': 'city', 'rank': '33', 'fxLink': 'https://www.qweather.com/weather/zhao-county-101090113.html'}], 'refer': {'sources': ['QWeather'], 'license': ['QWeather Developers License']}}\n"
     ]
    },
    {
     "data": {
      "text/plain": [
       "'今晚多云。明天多云，比今天暖和一些（15°），空气一般。\\n 详细信息：https://www.qweather.com/weather/shijiazhuang-101090101.html'"
      ]
     },
     "execution_count": 2,
     "metadata": {},
     "output_type": "execute_result"
    }
   ],
   "source": [
    "import requests\n",
    "from bs4 import BeautifulSoup\n",
    "get_location_url = 'https://geoapi.qweather.com/v2/city/lookup'\n",
    "address = '石家庄'\n",
    "get_loction_params = {\n",
    "        'key': '4fd5b28a9a27428e92dd14cada996806',\n",
    "        'location': address\n",
    "}\n",
    "location_data = requests.get(get_location_url,get_loction_params).json()\n",
    "print(location_data)\n",
    "location_data = location_data['location'][0]\n",
    "page = requests.get(location_data['fxLink'])\n",
    "soup = BeautifulSoup(page.text, 'html.parser')\n",
    "abstract = soup.find_all('div', class_='current-abstract')[0]\n",
    "abstract.text.strip() + '\\n 详细信息：'+location_data['fxLink']"
   ]
  }
 ],
 "metadata": {
  "kernelspec": {
   "display_name": "base",
   "language": "python",
   "name": "python3"
  },
  "language_info": {
   "codemirror_mode": {
    "name": "ipython",
    "version": 3
   },
   "file_extension": ".py",
   "mimetype": "text/x-python",
   "name": "python",
   "nbconvert_exporter": "python",
   "pygments_lexer": "ipython3",
   "version": "3.11.5"
  }
 },
 "nbformat": 4,
 "nbformat_minor": 2
}
