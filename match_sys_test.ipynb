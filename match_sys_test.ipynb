{
 "cells": [
  {
   "cell_type": "code",
   "execution_count": 1,
   "metadata": {},
   "outputs": [
    {
     "name": "stdout",
     "output_type": "stream",
     "text": [
      "1717383175283548160\n",
      "Loading weights from local directory\n",
      "# jionlp - 微信公众号: JioNLP  Github: `https://github.com/dongrixinyu/JioNLP`.\n",
      "# jiojio - `http://www.jionlp.com/jionlp_online/cws_pos` is available for online trial.\n",
      "Parrot started\n"
     ]
    }
   ],
   "source": [
    "from service import config\n",
    "config.initialize()\n",
    "\n",
    "from service.MatchSys import MatchSys\n",
    "ms = MatchSys(\n",
    "        name='teat_sys',\n",
    "        ltp_model_path=r'D:\\Code\\MyLongTimeProject\\A\\QQ-Bot-And-Tool\\data\\LtpModel',\n",
    "        database_uri='sqlite:///data/db.sqlite3',\n",
    "        text_vec_model_path=r'D:\\Code\\MyLongTimeProject\\A\\QQ-Bot-And-Tool\\data\\model.pkl',\n",
    "        vector_similarity_rate=0.7,\n",
    "        most_similar_number=10,\n",
    "        vector_match_times=5,\n",
    "\n",
    "    )\n",
    "\n",
    "@ms.handle_function_declaration(commands = ['天气怎么样'])\n",
    "def get_weather_abstract_by_hefeng(input_statement):\n",
    "    import requests\n",
    "    from bs4 import BeautifulSoup\n",
    "    get_location_url = 'https://geoapi.qweather.com/v2/city/lookup'\n",
    "    address = input_statement.text.split('天气怎么样')[0]\n",
    "    get_loction_params = {\n",
    "        'key': config.SERVICE_CONFIG.he_feng_key,\n",
    "        'location': address\n",
    "    }\n",
    "    location_data = requests.get(get_location_url,get_loction_params).json()\n",
    "    print(location_data)\n",
    "    location_data = location_data['location'][0]\n",
    "    page = requests.get(location_data['fxLink'])\n",
    "    soup = BeautifulSoup(page.text, 'html.parser')\n",
    "    abstract = soup.find_all('div', class_='current-abstract')[0]\n",
    "    return abstract.text.strip() + '\\n 详细信息：'+location_data['fxLink']"
   ]
  },
  {
   "cell_type": "code",
   "execution_count": null,
   "metadata": {},
   "outputs": [],
   "source": [
    "import pandas as pd\n",
    "map = {}\n",
    "# data = pd.read_excel(r'C:\\Users\\Administrator\\Documents\\GitHub\\QQ-Bot-And-Tool\\data\\FixedReply\\傲娇系二次元bot词库5千词V1.2.xlsx',header=None, sheet_name=0)\n",
    "data = pd.read_excel(r\"D:\\temp\\Downloads\\傲娇系二次元bot词库5千词V1.2.xlsx\",header=None, sheet_name=0)\n",
    "for index,row in data.iterrows():\n",
    "    if row[0] in map:\n",
    "        map[row[0]].append(row[1])\n",
    "    else:\n",
    "        map[row[0]] = [row[1]]\n",
    "from service.MatchSys.trainer import QATrainer\n",
    "trainer = QATrainer(ms)\n"
   ]
  },
  {
   "cell_type": "code",
   "execution_count": null,
   "metadata": {},
   "outputs": [],
   "source": [
    "trainer.train(map)"
   ]
  },
  {
   "cell_type": "code",
   "execution_count": 2,
   "metadata": {},
   "outputs": [
    {
     "name": "stdout",
     "output_type": "stream",
     "text": [
      "[]\n",
      "Unexpected exception formatting exception. Falling back to standard exception\n"
     ]
    },
    {
     "name": "stderr",
     "output_type": "stream",
     "text": [
      "Traceback (most recent call last):\n",
      "  File \"d:\\APP\\CodeUse\\Anaconda3\\lib\\site-packages\\IPython\\core\\interactiveshell.py\", line 3526, in run_code\n",
      "    exec(code_obj, self.user_global_ns, self.user_ns)\n",
      "  File \"C:\\Users\\Administrator\\AppData\\Local\\Temp\\ipykernel_25852\\2342626242.py\", line 1, in <module>\n",
      "    ms.get_response('你好啊')\n",
      "  File \"d:\\Code\\MyLongTimeProject\\A\\QQ-Bot-And-Tool\\service\\MatchSys\\match_sys.py\", line 187, in get_response\n",
      "    response = self.generate_response(input_statement, additional_response_selection_parameters)\n",
      "  File \"d:\\Code\\MyLongTimeProject\\A\\QQ-Bot-And-Tool\\service\\MatchSys\\match_sys.py\", line 241, in generate_response\n",
      "    result = adapter.process(input_statement)\n",
      "  File \"d:\\Code\\MyLongTimeProject\\A\\QQ-Bot-And-Tool\\service\\MatchSys\\logic\\best_match.py\", line 44, in process\n",
      "    search_results = self.search_algorithm.search(input_statement)\n",
      "  File \"d:\\Code\\MyLongTimeProject\\A\\QQ-Bot-And-Tool\\service\\MatchSys\\search\\doc2vec_search.py\", line 76, in search\n",
      "  File \"d:\\Code\\MyLongTimeProject\\A\\QQ-Bot-And-Tool\\service\\MatchSys\\search\\doc2vec_search.py\", line 55, in search_by_docvector\n",
      "    return self.build_statement_chain(input_statement_list)\n",
      "  File \"d:\\Code\\MyLongTimeProject\\A\\QQ-Bot-And-Tool\\service\\MatchSys\\search\\doc2vec_search.py\", line 19, in build_statement_chain\n",
      "    results =  self.matchsys.storage.get_statements_by_previous_id(statement.id)\n",
      "  File \"d:\\Code\\MyLongTimeProject\\A\\QQ-Bot-And-Tool\\service\\MatchSys\\storage\\sql_storage.py\", line 118, in get_statements_by_previous_id\n",
      "    query = session.query(Statement).filter_by(previous_id=id).all()\n",
      "  File \"d:\\APP\\CodeUse\\Anaconda3\\lib\\site-packages\\sqlalchemy\\orm\\query.py\", line 2688, in all\n",
      "    return self._iter().all()  # type: ignore\n",
      "  File \"d:\\APP\\CodeUse\\Anaconda3\\lib\\site-packages\\sqlalchemy\\orm\\query.py\", line 2842, in _iter\n",
      "    result: Union[ScalarResult[_T], Result[_T]] = self.session.execute(\n",
      "  File \"d:\\APP\\CodeUse\\Anaconda3\\lib\\site-packages\\sqlalchemy\\orm\\session.py\", line 2262, in execute\n",
      "    return self._execute_internal(\n",
      "  File \"d:\\APP\\CodeUse\\Anaconda3\\lib\\site-packages\\sqlalchemy\\orm\\session.py\", line 2134, in _execute_internal\n",
      "    conn = self._connection_for_bind(bind)\n",
      "  File \"d:\\APP\\CodeUse\\Anaconda3\\lib\\site-packages\\sqlalchemy\\orm\\session.py\", line 2001, in _connection_for_bind\n",
      "    return trans._connection_for_bind(engine, execution_options)\n",
      "  File \"<string>\", line 2, in _connection_for_bind\n",
      "  File \"d:\\APP\\CodeUse\\Anaconda3\\lib\\site-packages\\sqlalchemy\\orm\\state_changes.py\", line 139, in _go\n",
      "    ret_value = fn(self, *arg, **kw)\n",
      "  File \"d:\\APP\\CodeUse\\Anaconda3\\lib\\site-packages\\sqlalchemy\\orm\\session.py\", line 1126, in _connection_for_bind\n",
      "    conn = bind.connect()\n",
      "  File \"d:\\APP\\CodeUse\\Anaconda3\\lib\\site-packages\\sqlalchemy\\engine\\base.py\", line 3264, in connect\n",
      "    return self._connection_cls(self)\n",
      "  File \"d:\\APP\\CodeUse\\Anaconda3\\lib\\site-packages\\sqlalchemy\\engine\\base.py\", line 145, in __init__\n",
      "    self._dbapi_connection = engine.raw_connection()\n",
      "  File \"d:\\APP\\CodeUse\\Anaconda3\\lib\\site-packages\\sqlalchemy\\engine\\base.py\", line 3288, in raw_connection\n",
      "    return self.pool.connect()\n",
      "  File \"d:\\APP\\CodeUse\\Anaconda3\\lib\\site-packages\\sqlalchemy\\pool\\base.py\", line 452, in connect\n",
      "    return _ConnectionFairy._checkout(self)\n",
      "  File \"d:\\APP\\CodeUse\\Anaconda3\\lib\\site-packages\\sqlalchemy\\pool\\base.py\", line 1267, in _checkout\n",
      "    fairy = _ConnectionRecord.checkout(pool)\n",
      "  File \"d:\\APP\\CodeUse\\Anaconda3\\lib\\site-packages\\sqlalchemy\\pool\\base.py\", line 716, in checkout\n",
      "    rec = pool._do_get()\n",
      "  File \"d:\\APP\\CodeUse\\Anaconda3\\lib\\site-packages\\sqlalchemy\\pool\\impl.py\", line 148, in _do_get\n",
      "    return self._pool.get(wait, self._timeout)\n",
      "  File \"d:\\APP\\CodeUse\\Anaconda3\\lib\\site-packages\\sqlalchemy\\util\\queue.py\", line 202, in get\n",
      "    self.not_empty.wait(remaining)\n",
      "  File \"d:\\APP\\CodeUse\\Anaconda3\\lib\\threading.py\", line 324, in wait\n",
      "    gotit = waiter.acquire(True, timeout)\n",
      "KeyboardInterrupt\n",
      "\n",
      "During handling of the above exception, another exception occurred:\n",
      "\n",
      "Traceback (most recent call last):\n",
      "  File \"d:\\APP\\CodeUse\\Anaconda3\\lib\\site-packages\\IPython\\core\\interactiveshell.py\", line 2120, in showtraceback\n",
      "    stb = self.InteractiveTB.structured_traceback(\n",
      "  File \"d:\\APP\\CodeUse\\Anaconda3\\lib\\site-packages\\IPython\\core\\ultratb.py\", line 1435, in structured_traceback\n",
      "    return FormattedTB.structured_traceback(\n",
      "  File \"d:\\APP\\CodeUse\\Anaconda3\\lib\\site-packages\\IPython\\core\\ultratb.py\", line 1326, in structured_traceback\n",
      "    return VerboseTB.structured_traceback(\n",
      "  File \"d:\\APP\\CodeUse\\Anaconda3\\lib\\site-packages\\IPython\\core\\ultratb.py\", line 1173, in structured_traceback\n",
      "    formatted_exception = self.format_exception_as_a_whole(etype, evalue, etb, number_of_lines_of_context,\n",
      "  File \"d:\\APP\\CodeUse\\Anaconda3\\lib\\site-packages\\IPython\\core\\ultratb.py\", line 1088, in format_exception_as_a_whole\n",
      "    frames.append(self.format_record(record))\n",
      "  File \"d:\\APP\\CodeUse\\Anaconda3\\lib\\site-packages\\IPython\\core\\ultratb.py\", line 970, in format_record\n",
      "    frame_info.lines, Colors, self.has_colors, lvals\n",
      "  File \"d:\\APP\\CodeUse\\Anaconda3\\lib\\site-packages\\IPython\\core\\ultratb.py\", line 792, in lines\n",
      "    return self._sd.lines\n",
      "  File \"d:\\APP\\CodeUse\\Anaconda3\\lib\\site-packages\\stack_data\\utils.py\", line 145, in cached_property_wrapper\n",
      "    value = obj.__dict__[self.func.__name__] = self.func(obj)\n",
      "  File \"d:\\APP\\CodeUse\\Anaconda3\\lib\\site-packages\\stack_data\\core.py\", line 698, in lines\n",
      "    pieces = self.included_pieces\n",
      "  File \"d:\\APP\\CodeUse\\Anaconda3\\lib\\site-packages\\stack_data\\utils.py\", line 145, in cached_property_wrapper\n",
      "    value = obj.__dict__[self.func.__name__] = self.func(obj)\n",
      "  File \"d:\\APP\\CodeUse\\Anaconda3\\lib\\site-packages\\stack_data\\core.py\", line 649, in included_pieces\n",
      "    pos = scope_pieces.index(self.executing_piece)\n",
      "  File \"d:\\APP\\CodeUse\\Anaconda3\\lib\\site-packages\\stack_data\\utils.py\", line 145, in cached_property_wrapper\n",
      "    value = obj.__dict__[self.func.__name__] = self.func(obj)\n",
      "  File \"d:\\APP\\CodeUse\\Anaconda3\\lib\\site-packages\\stack_data\\core.py\", line 628, in executing_piece\n",
      "    return only(\n",
      "  File \"d:\\APP\\CodeUse\\Anaconda3\\lib\\site-packages\\executing\\executing.py\", line 164, in only\n",
      "    raise NotOneValueFound('Expected one value, found 0')\n",
      "executing.executing.NotOneValueFound: Expected one value, found 0\n"
     ]
    }
   ],
   "source": [
    "ms.get_response('你好啊')"
   ]
  },
  {
   "cell_type": "code",
   "execution_count": null,
   "metadata": {},
   "outputs": [],
   "source": [
    "import sys\n",
    "sys.path.append(r\"C:\\Users\\Administrator\\Documents\\GitHub\\QQ-Bot-And-Tool\") \n",
    "from service import config\n",
    "config.initialize()\n",
    "\n",
    "from service.MatchSys import MatchSys\n",
    "ms = MatchSys(\n",
    "        name='teat_sys',\n",
    "        ltp_model_path=r'C:\\Users\\Administrator\\Documents\\GitHub\\QQ-Bot-And-Tool\\data\\LtpModel',\n",
    "        database_uri='sqlite:///data/db.sqlite3',\n",
    "        text_vec_model_path=r'C:\\Users\\Administrator\\Documents\\GitHub\\QQ-Bot-And-Tool\\data\\model.pkl',\n",
    "        vector_similarity_rate=0.7,\n",
    "        most_similar_number=10,\n",
    "        vector_match_times=5,\n",
    "\n",
    "    )"
   ]
  },
  {
   "cell_type": "code",
   "execution_count": null,
   "metadata": {},
   "outputs": [],
   "source": [
    "data = [\n",
    "    '你好啊',\n",
    "    '怎么了吗',\n",
    "    '没什么',\n",
    "    '就是想叫你两句',\n",
    "    '真是的，有病吧',\n",
    "    'END'\n",
    "]"
   ]
  },
  {
   "cell_type": "code",
   "execution_count": null,
   "metadata": {},
   "outputs": [],
   "source": [
    "kwargs['source'] = 'TRAIN_DATA'\n",
    "    \n",
    "statements_to_create = []\n",
    "message_adapter = self.matchsys.get_message_adapter('默认使用')\n",
    "print('start process to statement need long time')\n",
    "statements = message_adapter.process_list(conversations, **kwargs)\n",
    "\n",
    "per_statement_id = None\n",
    "\n",
    "for i in range(len(statements)):\n",
    "            statement = statements[i]\n",
    "            if statement.text == 'END':\n",
    "                per_statement_id = None\n",
    "  \n",
    "            else:\n",
    "                if statements[i+1].text != 'END':\n",
    "                    statement.next_id = statements[i+1].id\n",
    "                statement.previous_id = per_statement_id\n",
    "                per_statement_id = statement.id\n",
    "            \n",
    "                statements_to_create.append(statement)\n",
    "\n",
    "ms.storage.create_many(statements_to_create)\n",
    "ms.docvector_tool.train(statements_to_create)"
   ]
  },
  {
   "cell_type": "code",
   "execution_count": 12,
   "metadata": {},
   "outputs": [
    {
     "name": "stdout",
     "output_type": "stream",
     "text": [
      "（无视）\n",
      "['（无视）']\n"
     ]
    }
   ],
   "source": [
    "kwargs_list = []\n",
    "input_texts = []\n",
    "kwargs={}\n",
    "for text in ['（无视）']:\n",
    "    print(text)\n",
    "    text = text.split('.{')\n",
    "    print(text)\n",
    "    temp = kwargs\n",
    "    if len(text) > 1:\n",
    "                args = text[1][:-1].split(',')\n",
    "                for arg in args:\n",
    "                    arg = arg.split('=')\n",
    "                    if len(arg) == 2:\n",
    "                        temp[arg[0]] = arg[1]\n",
    "    input_texts.append(text[0])\n",
    "    kwargs_list.append(temp)"
   ]
  }
 ],
 "metadata": {
  "kernelspec": {
   "display_name": "base",
   "language": "python",
   "name": "python3"
  },
  "language_info": {
   "codemirror_mode": {
    "name": "ipython",
    "version": 3
   },
   "file_extension": ".py",
   "mimetype": "text/x-python",
   "name": "python",
   "nbconvert_exporter": "python",
   "pygments_lexer": "ipython3",
   "version": "3.10.13"
  }
 },
 "nbformat": 4,
 "nbformat_minor": 2
}
