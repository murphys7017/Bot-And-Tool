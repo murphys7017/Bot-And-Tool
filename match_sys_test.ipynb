{
 "cells": [
  {
   "cell_type": "code",
   "execution_count": 1,
   "metadata": {},
   "outputs": [
    {
     "name": "stdout",
     "output_type": "stream",
     "text": [
      "Starting initialization of ModelBase\n",
      "Starting initialization of MatchSys\n"
     ]
    }
   ],
   "source": [
    "import sys\n",
    "# sys.path.append(r\"C:\\Users\\Administrator\\Documents\\GitHub\\QQ-Bot-And-Tool\") \n",
    "from MatchSys import config\n",
    "\n",
    "\n",
    "from MatchSys import MatchSys\n",
    "ms = MatchSys(\n",
    "        name='teat_sys',\n",
    "        ltp_model_path=r'data\\LtpModel',\n",
    "        database_uri='sqlite:///data/db.sqlite3',\n",
    "        text_vec_model_path=r'data\\model.bin',\n",
    "        vector_similarity_rate=0.7,\n",
    "        most_similar_number=10,\n",
    "        vector_match_times=5,\n",
    "        need_ltp=False,\n",
    "        search_adapters_name_list=['MatchSys.search.TextSearch','MatchSys.search.FaissSearch'],\n",
    "        signal_file_size=10000\n",
    "    )"
   ]
  },
  {
   "cell_type": "code",
   "execution_count": 6,
   "metadata": {},
   "outputs": [
    {
     "name": "stdout",
     "output_type": "stream",
     "text": [
      "FaissSearch.get_endcode_time \t - \t 耗时：0.035796300042420626秒\n",
      "FaissSearch.search \t - \t 耗时：0.06716240011155605秒\n",
      "search statements:\n",
      "[<Statement text:我喜欢你, persona:user:*, type_of:Q>, <Statement text:我喜欢你啊, persona:user:*, type_of:Q>, <Statement text:我喜欢你, persona:user:*, type_of:Q>, <Statement text:我喜欢你, persona:user:*, type_of:Q>, <Statement text:我喜欢你啊, persona:user:*, type_of:Q>, <Statement text:我喜欢你, persona:user:*, type_of:Q>, <Statement text:我觉得你喜欢我, persona:user:*, type_of:Q>]\n",
      "{me}才..才没有很喜欢你呢……\n",
      "MatchSys.get_response \t - \t 耗时：0.7428028001450002秒\n"
     ]
    },
    {
     "data": {
      "text/plain": [
       "'{me}才..才没有很喜欢你呢……'"
      ]
     },
     "execution_count": 6,
     "metadata": {},
     "output_type": "execute_result"
    }
   ],
   "source": [
    "ms.get_response('我喜欢你')"
   ]
  },
  {
   "cell_type": "code",
   "execution_count": null,
   "metadata": {},
   "outputs": [],
   "source": [
    "from MatchSys.trainer.base_qa_trainer import QATrainer\n",
    "\n",
    "trainer = QATrainer(ms)\n",
    "\n",
    "import pandas as pd\n",
    "map = {}\n",
    "data = pd.read_excel(r\"data\\FixedReply\\Test-1K.xlsx\",header=None, sheet_name=0)\n",
    "for index,row in data.iterrows():\n",
    "    row[0] = str(row[0]).strip()\n",
    "    row[1] = str(row[1]).strip()\n",
    "    if row[0] in map:\n",
    "        map[row[0]].append(row[1])\n",
    "    else:\n",
    "        map[row[0]] = [row[1]]\n",
    "  \n",
    "        \n",
    "trainer.train(map)"
   ]
  },
  {
   "cell_type": "code",
   "execution_count": null,
   "metadata": {},
   "outputs": [],
   "source": [
    "from MatchSys.trainer.base_chat_list_trainer import ChatListTrainer\n",
    "\n",
    "trainer = ChatListTrainer(ms)\n",
    "data = [\n",
    "    [\n",
    "        '可战争在哪儿？现在全球一处热点都没有，应该是历史上最和平的年代了。',\n",
    "        '没有。',\n",
    "        '那你的生活是一种偶然，世界有这么多变幻莫测的因素，你的人生却没什么变故。',\n",
    "        '大部分人都是这样嘛。',\n",
    "        '那大部分人的人生都是偶然。',\n",
    "        '可......多少代人都是这么平淡地过来的。',\n",
    "        '都是偶然。',\n",
    "        '得承认今天我的理解力太差了，您这岂不是说......',\n",
    "        '是的，整个人类历史也是偶然，从石器时代到今天，都没什么重大变故，真幸运。但既然是幸运，总有结束的一天；现在我告诉你，结束了，做好思想准备吧。',\n",
    "    ]\n",
    "]\n",
    "        \n",
    "trainer.train(data)"
   ]
  },
  {
   "cell_type": "code",
   "execution_count": null,
   "metadata": {},
   "outputs": [],
   "source": [
    "len(ms.search_adapters[0].model.dv.index_to_key)"
   ]
  },
  {
   "cell_type": "code",
   "execution_count": null,
   "metadata": {},
   "outputs": [],
   "source": [
    "while True:\n",
    "    message = input('>')\n",
    "    if message == 'exit':\n",
    "        break\n",
    "    else:\n",
    "        print(ms.get_response(message))"
   ]
  },
  {
   "cell_type": "code",
   "execution_count": 1,
   "metadata": {},
   "outputs": [
    {
     "data": {
      "text/plain": [
       "True"
      ]
     },
     "execution_count": 1,
     "metadata": {},
     "output_type": "execute_result"
    }
   ],
   "source": [
    "import torch\n",
    "torch.cuda.is_available()\n"
   ]
  },
  {
   "cell_type": "code",
   "execution_count": 5,
   "metadata": {},
   "outputs": [
    {
     "data": {
      "text/plain": [
       "[2, 3]"
      ]
     },
     "execution_count": 5,
     "metadata": {},
     "output_type": "execute_result"
    }
   ],
   "source": [
    "[1,2,3][1:]"
   ]
  }
 ],
 "metadata": {
  "kernelspec": {
   "display_name": "base",
   "language": "python",
   "name": "python3"
  },
  "language_info": {
   "codemirror_mode": {
    "name": "ipython",
    "version": 3
   },
   "file_extension": ".py",
   "mimetype": "text/x-python",
   "name": "python",
   "nbconvert_exporter": "python",
   "pygments_lexer": "ipython3",
   "version": "3.10.13"
  }
 },
 "nbformat": 4,
 "nbformat_minor": 2
}
