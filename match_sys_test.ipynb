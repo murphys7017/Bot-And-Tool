{
 "cells": [
  {
   "cell_type": "code",
   "execution_count": 3,
   "metadata": {},
   "outputs": [
    {
     "name": "stdout",
     "output_type": "stream",
     "text": [
      "Starting initialization of MatchSys\n",
      "Loading weights from local directory\n"
     ]
    },
    {
     "ename": "UnpicklingError",
     "evalue": "could not find MARK",
     "output_type": "error",
     "traceback": [
      "\u001b[1;31m---------------------------------------------------------------------------\u001b[0m",
      "\u001b[1;31mUnpicklingError\u001b[0m                           Traceback (most recent call last)",
      "\u001b[1;32mc:\\Users\\Administrator\\Documents\\GitHub\\QQ-Bot-And-Tool\\match_sys_test.ipynb Cell 1\u001b[0m line \u001b[0;36m7\n\u001b[0;32m      <a href='vscode-notebook-cell:/c%3A/Users/Administrator/Documents/GitHub/QQ-Bot-And-Tool/match_sys_test.ipynb#W0sZmlsZQ%3D%3D?line=2'>3</a>\u001b[0m \u001b[39mfrom\u001b[39;00m \u001b[39mMatchSys\u001b[39;00m \u001b[39mimport\u001b[39;00m config\n\u001b[0;32m      <a href='vscode-notebook-cell:/c%3A/Users/Administrator/Documents/GitHub/QQ-Bot-And-Tool/match_sys_test.ipynb#W0sZmlsZQ%3D%3D?line=5'>6</a>\u001b[0m \u001b[39mfrom\u001b[39;00m \u001b[39mMatchSys\u001b[39;00m \u001b[39mimport\u001b[39;00m MatchSys\n\u001b[1;32m----> <a href='vscode-notebook-cell:/c%3A/Users/Administrator/Documents/GitHub/QQ-Bot-And-Tool/match_sys_test.ipynb#W0sZmlsZQ%3D%3D?line=6'>7</a>\u001b[0m ms \u001b[39m=\u001b[39m MatchSys(\n\u001b[0;32m      <a href='vscode-notebook-cell:/c%3A/Users/Administrator/Documents/GitHub/QQ-Bot-And-Tool/match_sys_test.ipynb#W0sZmlsZQ%3D%3D?line=7'>8</a>\u001b[0m         name\u001b[39m=\u001b[39m\u001b[39m'\u001b[39m\u001b[39mteat_sys\u001b[39m\u001b[39m'\u001b[39m,\n\u001b[0;32m      <a href='vscode-notebook-cell:/c%3A/Users/Administrator/Documents/GitHub/QQ-Bot-And-Tool/match_sys_test.ipynb#W0sZmlsZQ%3D%3D?line=8'>9</a>\u001b[0m         ltp_model_path\u001b[39m=\u001b[39m\u001b[39mr\u001b[39m\u001b[39m'\u001b[39m\u001b[39mC:\u001b[39m\u001b[39m\\\u001b[39m\u001b[39mUsers\u001b[39m\u001b[39m\\\u001b[39m\u001b[39mAdministrator\u001b[39m\u001b[39m\\\u001b[39m\u001b[39mDocuments\u001b[39m\u001b[39m\\\u001b[39m\u001b[39mGitHub\u001b[39m\u001b[39m\\\u001b[39m\u001b[39mQQ-Bot-And-Tool\u001b[39m\u001b[39m\\\u001b[39m\u001b[39mdata\u001b[39m\u001b[39m\\\u001b[39m\u001b[39mLtpModel\u001b[39m\u001b[39m'\u001b[39m,\n\u001b[0;32m     <a href='vscode-notebook-cell:/c%3A/Users/Administrator/Documents/GitHub/QQ-Bot-And-Tool/match_sys_test.ipynb#W0sZmlsZQ%3D%3D?line=9'>10</a>\u001b[0m         database_uri\u001b[39m=\u001b[39m\u001b[39m'\u001b[39m\u001b[39msqlite:///data/db.sqlite3\u001b[39m\u001b[39m'\u001b[39m,\n\u001b[0;32m     <a href='vscode-notebook-cell:/c%3A/Users/Administrator/Documents/GitHub/QQ-Bot-And-Tool/match_sys_test.ipynb#W0sZmlsZQ%3D%3D?line=10'>11</a>\u001b[0m         text_vec_model_path\u001b[39m=\u001b[39m\u001b[39mr\u001b[39m\u001b[39m'\u001b[39m\u001b[39mC:\u001b[39m\u001b[39m\\\u001b[39m\u001b[39mUsers\u001b[39m\u001b[39m\\\u001b[39m\u001b[39mAdministrator\u001b[39m\u001b[39m\\\u001b[39m\u001b[39mDocuments\u001b[39m\u001b[39m\\\u001b[39m\u001b[39mGitHub\u001b[39m\u001b[39m\\\u001b[39m\u001b[39mQQ-Bot-And-Tool\u001b[39m\u001b[39m\\\u001b[39m\u001b[39mdata\u001b[39m\u001b[39m\\\u001b[39m\u001b[39mmodel.bin\u001b[39m\u001b[39m'\u001b[39m,\n\u001b[0;32m     <a href='vscode-notebook-cell:/c%3A/Users/Administrator/Documents/GitHub/QQ-Bot-And-Tool/match_sys_test.ipynb#W0sZmlsZQ%3D%3D?line=11'>12</a>\u001b[0m         vector_similarity_rate\u001b[39m=\u001b[39m\u001b[39m0.7\u001b[39m,\n\u001b[0;32m     <a href='vscode-notebook-cell:/c%3A/Users/Administrator/Documents/GitHub/QQ-Bot-And-Tool/match_sys_test.ipynb#W0sZmlsZQ%3D%3D?line=12'>13</a>\u001b[0m         most_similar_number\u001b[39m=\u001b[39m\u001b[39m10\u001b[39m,\n\u001b[0;32m     <a href='vscode-notebook-cell:/c%3A/Users/Administrator/Documents/GitHub/QQ-Bot-And-Tool/match_sys_test.ipynb#W0sZmlsZQ%3D%3D?line=13'>14</a>\u001b[0m         vector_match_times\u001b[39m=\u001b[39m\u001b[39m5\u001b[39m,\n\u001b[0;32m     <a href='vscode-notebook-cell:/c%3A/Users/Administrator/Documents/GitHub/QQ-Bot-And-Tool/match_sys_test.ipynb#W0sZmlsZQ%3D%3D?line=14'>15</a>\u001b[0m \n\u001b[0;32m     <a href='vscode-notebook-cell:/c%3A/Users/Administrator/Documents/GitHub/QQ-Bot-And-Tool/match_sys_test.ipynb#W0sZmlsZQ%3D%3D?line=15'>16</a>\u001b[0m     )\n",
      "File \u001b[1;32mc:\\Users\\Administrator\\Documents\\GitHub\\QQ-Bot-And-Tool\\MatchSys\\match_sys.py:142\u001b[0m, in \u001b[0;36mMatchSys.__init__\u001b[1;34m(self, name, **kwargs)\u001b[0m\n\u001b[0;32m    139\u001b[0m \u001b[39mself\u001b[39m\u001b[39m.\u001b[39msnowflake \u001b[39m=\u001b[39m IdWorker(\u001b[39m1\u001b[39m,\u001b[39m1\u001b[39m,\u001b[39m1\u001b[39m)\n\u001b[0;32m    141\u001b[0m \u001b[39m# 文本向量化工具\u001b[39;00m\n\u001b[1;32m--> 142\u001b[0m \u001b[39mself\u001b[39m\u001b[39m.\u001b[39mdocvector_tool \u001b[39m=\u001b[39m Doc2VecTool(\u001b[39m*\u001b[39m\u001b[39m*\u001b[39mkwargs)\n",
      "File \u001b[1;32mc:\\Users\\Administrator\\Documents\\GitHub\\QQ-Bot-And-Tool\\MatchSys\\utils\\doc_vec_tool.py:29\u001b[0m, in \u001b[0;36mDoc2VecTool.__init__\u001b[1;34m(self, **kwargs)\u001b[0m\n\u001b[0;32m     26\u001b[0m \u001b[39mself\u001b[39m\u001b[39m.\u001b[39mtext_vec_model_path \u001b[39m=\u001b[39m kwargs\u001b[39m.\u001b[39mget(\u001b[39m'\u001b[39m\u001b[39mtext_vec_model_path\u001b[39m\u001b[39m'\u001b[39m, config\u001b[39m.\u001b[39mVECTOR_MODEL_PATH)\n\u001b[0;32m     28\u001b[0m \u001b[39mif\u001b[39;00m os\u001b[39m.\u001b[39mpath\u001b[39m.\u001b[39mexists(\u001b[39mself\u001b[39m\u001b[39m.\u001b[39mtext_vec_model_path):\n\u001b[1;32m---> 29\u001b[0m     \u001b[39mself\u001b[39m\u001b[39m.\u001b[39mmodel \u001b[39m=\u001b[39m Doc2Vec\u001b[39m.\u001b[39mload(os\u001b[39m.\u001b[39mpath\u001b[39m.\u001b[39mabspath(\u001b[39mself\u001b[39m\u001b[39m.\u001b[39mtext_vec_model_path))\n",
      "File \u001b[1;32mc:\\ProgramData\\anaconda3\\Lib\\site-packages\\gensim\\models\\doc2vec.py:809\u001b[0m, in \u001b[0;36mDoc2Vec.load\u001b[1;34m(cls, *args, **kwargs)\u001b[0m\n\u001b[0;32m    786\u001b[0m \u001b[39m\u001b[39m\u001b[39m\"\"\"Load a previously saved :class:`~gensim.models.doc2vec.Doc2Vec` model.\u001b[39;00m\n\u001b[0;32m    787\u001b[0m \n\u001b[0;32m    788\u001b[0m \u001b[39mParameters\u001b[39;00m\n\u001b[1;32m   (...)\u001b[0m\n\u001b[0;32m    806\u001b[0m \n\u001b[0;32m    807\u001b[0m \u001b[39m\"\"\"\u001b[39;00m\n\u001b[0;32m    808\u001b[0m \u001b[39mtry\u001b[39;00m:\n\u001b[1;32m--> 809\u001b[0m     \u001b[39mreturn\u001b[39;00m \u001b[39msuper\u001b[39m(Doc2Vec, \u001b[39mcls\u001b[39m)\u001b[39m.\u001b[39mload(\u001b[39m*\u001b[39margs, rethrow\u001b[39m=\u001b[39m\u001b[39mTrue\u001b[39;00m, \u001b[39m*\u001b[39m\u001b[39m*\u001b[39mkwargs)\n\u001b[0;32m    810\u001b[0m \u001b[39mexcept\u001b[39;00m \u001b[39mAttributeError\u001b[39;00m \u001b[39mas\u001b[39;00m ae:\n\u001b[0;32m    811\u001b[0m     logger\u001b[39m.\u001b[39merror(\n\u001b[0;32m    812\u001b[0m         \u001b[39m\"\u001b[39m\u001b[39mModel load error. Was model saved using code from an older Gensim version? \u001b[39m\u001b[39m\"\u001b[39m\n\u001b[0;32m    813\u001b[0m         \u001b[39m\"\u001b[39m\u001b[39mTry loading older model using gensim-3.8.3, then re-saving, to restore \u001b[39m\u001b[39m\"\u001b[39m\n\u001b[0;32m    814\u001b[0m         \u001b[39m\"\u001b[39m\u001b[39mcompatibility with current code.\u001b[39m\u001b[39m\"\u001b[39m)\n",
      "File \u001b[1;32mc:\\ProgramData\\anaconda3\\Lib\\site-packages\\gensim\\models\\word2vec.py:1942\u001b[0m, in \u001b[0;36mWord2Vec.load\u001b[1;34m(cls, rethrow, *args, **kwargs)\u001b[0m\n\u001b[0;32m   1923\u001b[0m \u001b[39m\u001b[39m\u001b[39m\"\"\"Load a previously saved :class:`~gensim.models.word2vec.Word2Vec` model.\u001b[39;00m\n\u001b[0;32m   1924\u001b[0m \n\u001b[0;32m   1925\u001b[0m \u001b[39mSee Also\u001b[39;00m\n\u001b[1;32m   (...)\u001b[0m\n\u001b[0;32m   1939\u001b[0m \n\u001b[0;32m   1940\u001b[0m \u001b[39m\"\"\"\u001b[39;00m\n\u001b[0;32m   1941\u001b[0m \u001b[39mtry\u001b[39;00m:\n\u001b[1;32m-> 1942\u001b[0m     model \u001b[39m=\u001b[39m \u001b[39msuper\u001b[39m(Word2Vec, \u001b[39mcls\u001b[39m)\u001b[39m.\u001b[39mload(\u001b[39m*\u001b[39margs, \u001b[39m*\u001b[39m\u001b[39m*\u001b[39mkwargs)\n\u001b[0;32m   1943\u001b[0m     \u001b[39mif\u001b[39;00m \u001b[39mnot\u001b[39;00m \u001b[39misinstance\u001b[39m(model, Word2Vec):\n\u001b[0;32m   1944\u001b[0m         rethrow \u001b[39m=\u001b[39m \u001b[39mTrue\u001b[39;00m\n",
      "File \u001b[1;32mc:\\ProgramData\\anaconda3\\Lib\\site-packages\\gensim\\utils.py:486\u001b[0m, in \u001b[0;36mSaveLoad.load\u001b[1;34m(cls, fname, mmap)\u001b[0m\n\u001b[0;32m    482\u001b[0m logger\u001b[39m.\u001b[39minfo(\u001b[39m\"\u001b[39m\u001b[39mloading \u001b[39m\u001b[39m%s\u001b[39;00m\u001b[39m object from \u001b[39m\u001b[39m%s\u001b[39;00m\u001b[39m\"\u001b[39m, \u001b[39mcls\u001b[39m\u001b[39m.\u001b[39m\u001b[39m__name__\u001b[39m, fname)\n\u001b[0;32m    484\u001b[0m compress, subname \u001b[39m=\u001b[39m SaveLoad\u001b[39m.\u001b[39m_adapt_by_suffix(fname)\n\u001b[1;32m--> 486\u001b[0m obj \u001b[39m=\u001b[39m unpickle(fname)\n\u001b[0;32m    487\u001b[0m obj\u001b[39m.\u001b[39m_load_specials(fname, mmap, compress, subname)\n\u001b[0;32m    488\u001b[0m obj\u001b[39m.\u001b[39madd_lifecycle_event(\u001b[39m\"\u001b[39m\u001b[39mloaded\u001b[39m\u001b[39m\"\u001b[39m, fname\u001b[39m=\u001b[39mfname)\n",
      "File \u001b[1;32mc:\\ProgramData\\anaconda3\\Lib\\site-packages\\gensim\\utils.py:1461\u001b[0m, in \u001b[0;36munpickle\u001b[1;34m(fname)\u001b[0m\n\u001b[0;32m   1447\u001b[0m \u001b[39m\u001b[39m\u001b[39m\"\"\"Load object from `fname`, using smart_open so that `fname` can be on S3, HDFS, compressed etc.\u001b[39;00m\n\u001b[0;32m   1448\u001b[0m \n\u001b[0;32m   1449\u001b[0m \u001b[39mParameters\u001b[39;00m\n\u001b[1;32m   (...)\u001b[0m\n\u001b[0;32m   1458\u001b[0m \n\u001b[0;32m   1459\u001b[0m \u001b[39m\"\"\"\u001b[39;00m\n\u001b[0;32m   1460\u001b[0m \u001b[39mwith\u001b[39;00m \u001b[39mopen\u001b[39m(fname, \u001b[39m'\u001b[39m\u001b[39mrb\u001b[39m\u001b[39m'\u001b[39m) \u001b[39mas\u001b[39;00m f:\n\u001b[1;32m-> 1461\u001b[0m     \u001b[39mreturn\u001b[39;00m _pickle\u001b[39m.\u001b[39mload(f, encoding\u001b[39m=\u001b[39m\u001b[39m'\u001b[39m\u001b[39mlatin1\u001b[39m\u001b[39m'\u001b[39m)\n",
      "\u001b[1;31mUnpicklingError\u001b[0m: could not find MARK"
     ]
    }
   ],
   "source": [
    "import sys\n",
    "sys.path.append(r\"C:\\Users\\Administrator\\Documents\\GitHub\\QQ-Bot-And-Tool\") \n",
    "from MatchSys import config\n",
    "\n",
    "\n",
    "from MatchSys import MatchSys\n",
    "ms = MatchSys(\n",
    "        name='teat_sys',\n",
    "        ltp_model_path=r'C:\\Users\\Administrator\\Documents\\GitHub\\QQ-Bot-And-Tool\\data\\LtpModel',\n",
    "        database_uri='sqlite:///data/db.sqlite3',\n",
    "        text_vec_model_path=r'C:\\Users\\Administrator\\Documents\\GitHub\\QQ-Bot-And-Tool\\data\\model.bin',\n",
    "        vector_similarity_rate=0.7,\n",
    "        most_similar_number=10,\n",
    "        vector_match_times=5,\n",
    "\n",
    "    )"
   ]
  },
  {
   "cell_type": "code",
   "execution_count": null,
   "metadata": {},
   "outputs": [],
   "source": [
    "ms.docvector_tool.model.infer_vector('都 是 偶然 。'.split(' '))"
   ]
  },
  {
   "cell_type": "code",
   "execution_count": null,
   "metadata": {},
   "outputs": [],
   "source": [
    "sims = ms.docvector_tool.model.dv.most_similar([ms.docvector_tool.model.infer_vector('我 喜欢 你'.split(' '))],topn=2)\n",
    "for sim in sims:\n",
    "    print(sim)"
   ]
  },
  {
   "cell_type": "code",
   "execution_count": 2,
   "metadata": {},
   "outputs": [
    {
     "data": {
      "text/plain": [
       "['1724840398565806080',\n",
       " '1724840398565806085',\n",
       " '1724840398565806086',\n",
       " '1724840398565806091',\n",
       " '1724840398565806093',\n",
       " '1724840398565806095',\n",
       " '1724840398565806097',\n",
       " '1724840398565806100',\n",
       " '1724840398565806103']"
      ]
     },
     "execution_count": 2,
     "metadata": {},
     "output_type": "execute_result"
    }
   ],
   "source": [
    "ms.docvector_tool.model.dv.index_to_key"
   ]
  },
  {
   "cell_type": "code",
   "execution_count": null,
   "metadata": {},
   "outputs": [],
   "source": [
    "from MatchSys.trainer.base_chat_list_trainer import ChatListTrainer\n",
    "from MatchSys.utils import print_progress_bar\n",
    "\n",
    "\n",
    "\n",
    "data = [\n",
    "    [\n",
    "        '可战争在哪儿？现在全球一处热点都没有，应该是历史上最和平的年代了。',\n",
    "        '没有。',\n",
    "        '那你的生活是一种偶然，世界有这么多变幻莫测的因素，你的人生却没什么变故。',\n",
    "        '大部分人都是这样嘛。',\n",
    "        '那大部分人的人生都是偶然。',\n",
    "        '可......多少代人都是这么平淡地过来的。',\n",
    "        '都是偶然。',\n",
    "        '得承认今天我的理解力太差了，您这岂不是说......',\n",
    "        '是的，整个人类历史也是偶然，从石器时代到今天，都没什么重大变故，真幸运。但既然是幸运，总有结束的一天；现在我告诉你，结束了，做好思想准备吧。',\n",
    "    ]\n",
    "]\n",
    "\n",
    "message_adapter = ms.get_message_adapter(data[0][0])\n",
    "statements_to_create = []\n",
    "        \n",
    "for index,chain in enumerate(data):\n",
    "        \n",
    "    statements = message_adapter.process_list(chain,**{'type_of':'CHAT','persona':'*'})\n",
    "    statements[0].next_id = statements[1].id\n",
    "    for i in range(1,len(statements)-1):\n",
    "        statements[i].previous_id = statements[i-1].id\n",
    "        statements[i].next_id = statements[i+1].id\n",
    "    statements[len(statements)-1].previous_id = statements[len(statements)-2].id\n",
    "    print_progress_bar(\n",
    "        'Chat Trainer',\n",
    "        index + 1, len(data)\n",
    "    )\n",
    "    statements_to_create = statements_to_create + statements\n"
   ]
  },
  {
   "cell_type": "code",
   "execution_count": null,
   "metadata": {},
   "outputs": [],
   "source": [
    "ms.docvector_tool.build_tokenzied(statements)\n",
    "import os\n",
    "from gensim.models import Doc2Vec\n",
    "\n",
    "tokenized = self.build_tokenzied(statements)\n",
    "model = Doc2Vec.load(os.path.abspath(self.text_vec_model_path))\n",
    "model.build_vocab(tokenized, update=True)\n",
    "model.train(tokenized,total_examples=self.model.corpus_count,epochs=100)\n",
    "\n",
    "save_word2vec_format\n"
   ]
  }
 ],
 "metadata": {
  "kernelspec": {
   "display_name": "base",
   "language": "python",
   "name": "python3"
  },
  "language_info": {
   "codemirror_mode": {
    "name": "ipython",
    "version": 3
   },
   "file_extension": ".py",
   "mimetype": "text/x-python",
   "name": "python",
   "nbconvert_exporter": "python",
   "pygments_lexer": "ipython3",
   "version": "3.11.5"
  }
 },
 "nbformat": 4,
 "nbformat_minor": 2
}
