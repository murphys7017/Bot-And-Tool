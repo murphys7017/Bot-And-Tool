{
 "cells": [
  {
   "cell_type": "code",
   "execution_count": 3,
   "metadata": {},
   "outputs": [
    {
     "name": "stdout",
     "output_type": "stream",
     "text": [
      "Starting initialization of MatchSys\n",
      "Loading weights from local directory\n"
     ]
    }
   ],
   "source": [
    "import sys\n",
    "sys.path.append(r\"C:\\Users\\Administrator\\Documents\\GitHub\\QQ-Bot-And-Tool\") \n",
    "from MatchSys import config\n",
    "\n",
    "\n",
    "from MatchSys import MatchSys\n",
    "ms = MatchSys(\n",
    "        name='teat_sys',\n",
    "        ltp_model_path=r'C:\\Users\\Administrator\\Documents\\GitHub\\QQ-Bot-And-Tool\\data\\LtpModel',\n",
    "        database_uri='sqlite:///data/db.sqlite3',\n",
    "        text_vec_model_path=r'C:\\Users\\Administrator\\Documents\\GitHub\\QQ-Bot-And-Tool\\data\\model.pkl',\n",
    "        vector_similarity_rate=0.7,\n",
    "        most_similar_number=10,\n",
    "        vector_match_times=5,\n",
    "\n",
    "    )"
   ]
  },
  {
   "cell_type": "code",
   "execution_count": 5,
   "metadata": {},
   "outputs": [
    {
     "data": {
      "text/plain": [
       "array([ 0.08856113,  0.07700427, -0.23418705, -0.32499823, -0.00423443,\n",
       "        0.08868691, -0.02464413, -0.28095624, -0.09659621,  0.06616449,\n",
       "        0.09258802,  0.08390011,  0.04215227, -0.10699629,  0.2735826 ,\n",
       "        0.03667052, -0.01707674,  0.21364781,  0.20680977,  0.18371937,\n",
       "        0.3358171 ,  0.10981559,  0.21698456, -0.11844297, -0.09269717,\n",
       "        0.24849229,  0.35065418, -0.40114224, -0.18850662,  0.02793114,\n",
       "       -0.15105368,  0.02940254,  0.4180297 ,  0.05620399, -0.1961256 ,\n",
       "       -0.06960765,  0.16879193,  0.48983908, -0.255641  ,  0.05271592,\n",
       "        0.19652812,  0.08155172, -0.08942468,  0.26909223,  0.08594631,\n",
       "        0.253106  ,  0.2822567 , -0.17792344,  0.05222271,  0.1041132 ,\n",
       "       -0.03761753, -0.1633152 ,  0.13537948, -0.16662498,  0.05840633,\n",
       "       -0.1853878 , -0.12461486,  0.18324322, -0.19628051,  0.08837903,\n",
       "       -0.01257097, -0.12914127,  0.06335146,  0.01610004, -0.06107762,\n",
       "        0.15930422,  0.05674284, -0.13796331,  0.08233408,  0.32624713,\n",
       "       -0.14363277,  0.04149531, -0.0918557 ,  0.26504162, -0.22621816,\n",
       "        0.03645176,  0.02609038, -0.04233616,  0.1416384 , -0.07365564,\n",
       "       -0.13089266,  0.40877253, -0.2576432 ,  0.1245834 , -0.24358143,\n",
       "       -0.12025545,  0.13635752,  0.00769757,  0.05492225,  0.08017097,\n",
       "        0.39273706, -0.0874071 , -0.1582819 ,  0.08456212, -0.06528848,\n",
       "        0.01279675,  0.0175234 ,  0.0545367 , -0.03756531,  0.03348297],\n",
       "      dtype=float32)"
      ]
     },
     "execution_count": 5,
     "metadata": {},
     "output_type": "execute_result"
    }
   ],
   "source": [
    "ms.docvector_tool.model.infer_vector('我 喜欢 你'.split(' '))"
   ]
  },
  {
   "cell_type": "code",
   "execution_count": 7,
   "metadata": {},
   "outputs": [
    {
     "name": "stdout",
     "output_type": "stream",
     "text": [
      "('1724663540608012290', 0.7994190454483032)\n",
      "('1724663624338903040', 0.7379180788993835)\n"
     ]
    }
   ],
   "source": [
    "sims = ms.docvector_tool.model.dv.most_similar([ms.docvector_tool.model.infer_vector('我 喜欢 你'.split(' '))],topn=2)\n",
    "for sim in sims:\n",
    "    print(sim)"
   ]
  },
  {
   "cell_type": "code",
   "execution_count": null,
   "metadata": {},
   "outputs": [],
   "source": []
  }
 ],
 "metadata": {
  "kernelspec": {
   "display_name": "base",
   "language": "python",
   "name": "python3"
  },
  "language_info": {
   "codemirror_mode": {
    "name": "ipython",
    "version": 3
   },
   "file_extension": ".py",
   "mimetype": "text/x-python",
   "name": "python",
   "nbconvert_exporter": "python",
   "pygments_lexer": "ipython3",
   "version": "3.11.5"
  }
 },
 "nbformat": 4,
 "nbformat_minor": 2
}
