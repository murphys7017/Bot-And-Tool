{
 "cells": [
  {
   "cell_type": "code",
   "execution_count": null,
   "metadata": {},
   "outputs": [],
   "source": [
    "from service import config\n",
    "config.initialize()\n",
    "\n",
    "from service.MatchSys import MatchSys\n",
    "ms = MatchSys(\n",
    "        name='teat_sys',\n",
    "        ltp_model_path=r'D:\\Code\\MyLongTimeProject\\A\\QQ-Bot-And-Tool\\data\\LtpModel',\n",
    "        database_uri='sqlite:///data/db.sqlite3',\n",
    "        text_vec_model_path=r'D:\\Code\\MyLongTimeProject\\A\\QQ-Bot-And-Tool\\data\\model.pkl',\n",
    "        vector_similarity_rate=0.7,\n",
    "        most_similar_number=10,\n",
    "        vector_match_times=5,\n",
    "\n",
    "    )\n",
    "\n",
    "@ms.handle_function_declaration(commands = ['天气怎么样'])\n",
    "def get_weather_abstract_by_hefeng(input_statement):\n",
    "    import requests\n",
    "    from bs4 import BeautifulSoup\n",
    "    get_location_url = 'https://geoapi.qweather.com/v2/city/lookup'\n",
    "    address = input_statement.text.split('天气怎么样')[0]\n",
    "    get_loction_params = {\n",
    "        'key': config.SERVICE_CONFIG.he_feng_key,\n",
    "        'location': address\n",
    "    }\n",
    "    location_data = requests.get(get_location_url,get_loction_params).json()\n",
    "    print(location_data)\n",
    "    location_data = location_data['location'][0]\n",
    "    page = requests.get(location_data['fxLink'])\n",
    "    soup = BeautifulSoup(page.text, 'html.parser')\n",
    "    abstract = soup.find_all('div', class_='current-abstract')[0]\n",
    "    return abstract.text.strip() + '\\n 详细信息：'+location_data['fxLink']"
   ]
  },
  {
   "cell_type": "code",
   "execution_count": null,
   "metadata": {},
   "outputs": [],
   "source": [
    "import pandas as pd\n",
    "map = {}\n",
    "# data = pd.read_excel(r'C:\\Users\\Administrator\\Documents\\GitHub\\QQ-Bot-And-Tool\\data\\FixedReply\\傲娇系二次元bot词库5千词V1.2.xlsx',header=None, sheet_name=0)\n",
    "data = pd.read_excel(r\"D:\\temp\\Downloads\\傲娇系二次元bot词库5千词V1.2.xlsx\",header=None, sheet_name=0)\n",
    "for index,row in data.iterrows():\n",
    "    if row[0] in map:\n",
    "        map[row[0]].append(row[1])\n",
    "    else:\n",
    "        map[row[0]] = [row[1]]\n",
    "from service.MatchSys.trainer import QATrainer\n",
    "trainer = QATrainer(ms)\n"
   ]
  },
  {
   "cell_type": "code",
   "execution_count": null,
   "metadata": {},
   "outputs": [],
   "source": [
    "trainer.train(map)"
   ]
  },
  {
   "cell_type": "code",
   "execution_count": null,
   "metadata": {},
   "outputs": [],
   "source": [
    "ms.get_response('石家庄天气怎么样')"
   ]
  },
  {
   "cell_type": "code",
   "execution_count": null,
   "metadata": {},
   "outputs": [],
   "source": [
    "import sys\n",
    "sys.path.append(r\"C:\\Users\\Administrator\\Documents\\GitHub\\QQ-Bot-And-Tool\") \n",
    "from service import config\n",
    "config.initialize()\n",
    "\n",
    "from service.MatchSys import MatchSys\n",
    "ms = MatchSys(\n",
    "        name='teat_sys',\n",
    "        ltp_model_path=r'C:\\Users\\Administrator\\Documents\\GitHub\\QQ-Bot-And-Tool\\data\\LtpModel',\n",
    "        database_uri='sqlite:///data/db.sqlite3',\n",
    "        text_vec_model_path=r'C:\\Users\\Administrator\\Documents\\GitHub\\QQ-Bot-And-Tool\\data\\model.pkl',\n",
    "        vector_similarity_rate=0.7,\n",
    "        most_similar_number=10,\n",
    "        vector_match_times=5,\n",
    "\n",
    "    )"
   ]
  },
  {
   "cell_type": "code",
   "execution_count": null,
   "metadata": {},
   "outputs": [],
   "source": [
    "data = [\n",
    "    '你好啊',\n",
    "    '怎么了吗',\n",
    "    '没什么',\n",
    "    '就是想叫你两句',\n",
    "    '真是的，有病吧',\n",
    "    'END'\n",
    "]"
   ]
  },
  {
   "cell_type": "code",
   "execution_count": null,
   "metadata": {},
   "outputs": [],
   "source": [
    "kwargs['source'] = 'TRAIN_DATA'\n",
    "    \n",
    "statements_to_create = []\n",
    "message_adapter = self.matchsys.get_message_adapter('默认使用')\n",
    "print('start process to statement need long time')\n",
    "statements = message_adapter.process_list(conversations, **kwargs)\n",
    "\n",
    "per_statement_id = None\n",
    "\n",
    "for i in range(len(statements)):\n",
    "            statement = statements[i]\n",
    "            if statement.text == 'END':\n",
    "                per_statement_id = None\n",
    "  \n",
    "            else:\n",
    "                if statements[i+1].text != 'END':\n",
    "                    statement.next_id = statements[i+1].id\n",
    "                statement.previous_id = per_statement_id\n",
    "                per_statement_id = statement.id\n",
    "            \n",
    "                statements_to_create.append(statement)\n",
    "\n",
    "ms.storage.create_many(statements_to_create)\n",
    "ms.docvector_tool.train(statements_to_create)"
   ]
  },
  {
   "cell_type": "code",
   "execution_count": 12,
   "metadata": {},
   "outputs": [
    {
     "name": "stdout",
     "output_type": "stream",
     "text": [
      "（无视）\n",
      "['（无视）']\n"
     ]
    }
   ],
   "source": [
    "kwargs_list = []\n",
    "input_texts = []\n",
    "kwargs={}\n",
    "for text in ['（无视）']:\n",
    "    print(text)\n",
    "    text = text.split('.{')\n",
    "    print(text)\n",
    "    temp = kwargs\n",
    "    if len(text) > 1:\n",
    "                args = text[1][:-1].split(',')\n",
    "                for arg in args:\n",
    "                    arg = arg.split('=')\n",
    "                    if len(arg) == 2:\n",
    "                        temp[arg[0]] = arg[1]\n",
    "    input_texts.append(text[0])\n",
    "    kwargs_list.append(temp)"
   ]
  }
 ],
 "metadata": {
  "kernelspec": {
   "display_name": "base",
   "language": "python",
   "name": "python3"
  },
  "language_info": {
   "codemirror_mode": {
    "name": "ipython",
    "version": 3
   },
   "file_extension": ".py",
   "mimetype": "text/x-python",
   "name": "python",
   "nbconvert_exporter": "python",
   "pygments_lexer": "ipython3",
   "version": "3.11.5"
  }
 },
 "nbformat": 4,
 "nbformat_minor": 2
}
