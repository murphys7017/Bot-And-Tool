{
 "cells": [
  {
   "cell_type": "code",
   "execution_count": 1,
   "metadata": {},
   "outputs": [
    {
     "name": "stdout",
     "output_type": "stream",
     "text": [
      "Starting initialization of ModelBase\n",
      "Starting initialization of MatchSys\n",
      "Loading weights from local directory\n"
     ]
    }
   ],
   "source": [
    "import sys\n",
    "# sys.path.append(r\"C:\\Users\\Administrator\\Documents\\GitHub\\QQ-Bot-And-Tool\") \n",
    "from MatchSys import config\n",
    "\n",
    "\n",
    "from MatchSys import MatchSys\n",
    "ms = MatchSys(\n",
    "        name='teat_sys',\n",
    "        ltp_model_path=r'data\\LtpModel',\n",
    "        database_uri='sqlite:///data/db.sqlite3',\n",
    "        text_vec_model_path=r'data\\model.bin',\n",
    "        vector_similarity_rate=0.7,\n",
    "        most_similar_number=10,\n",
    "        vector_match_times=5,\n",
    "\n",
    "    )"
   ]
  },
  {
   "cell_type": "code",
   "execution_count": null,
   "metadata": {},
   "outputs": [],
   "source": [
    "from MatchSys.trainer.base_qa_trainer import QATrainer\n",
    "\n",
    "trainer = QATrainer(ms)\n",
    "\n",
    "import pandas as pd\n",
    "map = {}\n",
    "data = pd.read_excel(r\"data\\FixedReply\\Test-1K.xlsx\",header=None, sheet_name=0)\n",
    "for index,row in data.iterrows():\n",
    "    row[0] = str(row[0]).strip()\n",
    "    row[1] = str(row[1]).strip()\n",
    "    if row[0] in map:\n",
    "        map[row[0]].append(row[1])\n",
    "    else:\n",
    "        map[row[0]] = [row[1]]\n",
    "  \n",
    "        \n",
    "trainer.train(map)"
   ]
  },
  {
   "cell_type": "code",
   "execution_count": null,
   "metadata": {},
   "outputs": [],
   "source": [
    "from MatchSys.trainer.base_chat_list_trainer import ChatListTrainer\n",
    "\n",
    "trainer = ChatListTrainer(ms)\n",
    "data = [\n",
    "    [\n",
    "        '可战争在哪儿？现在全球一处热点都没有，应该是历史上最和平的年代了。',\n",
    "        '没有。',\n",
    "        '那你的生活是一种偶然，世界有这么多变幻莫测的因素，你的人生却没什么变故。',\n",
    "        '大部分人都是这样嘛。',\n",
    "        '那大部分人的人生都是偶然。',\n",
    "        '可......多少代人都是这么平淡地过来的。',\n",
    "        '都是偶然。',\n",
    "        '得承认今天我的理解力太差了，您这岂不是说......',\n",
    "        '是的，整个人类历史也是偶然，从石器时代到今天，都没什么重大变故，真幸运。但既然是幸运，总有结束的一天；现在我告诉你，结束了，做好思想准备吧。',\n",
    "    ]\n",
    "]\n",
    "        \n",
    "trainer.train(data)"
   ]
  },
  {
   "cell_type": "code",
   "execution_count": null,
   "metadata": {},
   "outputs": [],
   "source": [
    "len(ms.search_adapters[0].model.dv.index_to_key)"
   ]
  },
  {
   "cell_type": "code",
   "execution_count": 2,
   "metadata": {},
   "outputs": [
    {
     "name": "stdout",
     "output_type": "stream",
     "text": [
      "Search List:大部分 人 都 是 这样 嘛 。\n",
      "DocVectorSearch Match 10 result\n",
      "DocVectorSearch.search \t - \t 耗时：0.046691900002770126秒\n",
      "TextSearch.search \t - \t 耗时：0.0036322999512776732秒\n",
      "SQLStorageAdapter.get_semantics_by_text \t - \t 耗时：7.00005330145359e-07秒\n",
      "IntentTextSearch.search \t - \t 耗时：0.018158100021537393秒\n",
      "[([<Statement text:大部分人都是这样嘛。, persona:*, type_of:CHAT>, <Statement text:那你的生活是一种偶然，世界有这么多变幻莫测的因素，你的人生却没什么变故。, persona:*, type_of:CHAT>, <Statement text:没有。, persona:*, type_of:CHAT>, <Statement text:可战争在哪儿？现在全球一处热点都没有，应该是历史上最和平的年代了。, persona:*, type_of:CHAT>], [<Statement text:是的，整个人类历史也是偶然，从石器时代到今天，都没什么重大变故，真幸运。但既然是幸运，总有结束的一天；现在我告诉你，结束了，做好思想准备吧。, persona:*, type_of:CHAT>, <Statement text:得承认今天我的理解力太差了，您这岂不是说......, persona:*, type_of:CHAT>, <Statement text:都是偶然。, persona:*, type_of:CHAT>, <Statement text:可......多少代人都是这么平淡地过来的。, persona:*, type_of:CHAT>, <Statement text:那大部分人的人生都是偶然。, persona:*, type_of:CHAT>, <Statement text:大部分人都是这样嘛。, persona:*, type_of:CHAT>]), ([<Statement text:大部分人都是这样嘛。, persona:*, type_of:CHAT>, <Statement text:那你的生活是一种偶然，世界有这么多变幻莫测的因素，你的人生却没什么变故。, persona:*, type_of:CHAT>, <Statement text:没有。, persona:*, type_of:CHAT>, <Statement text:可战争在哪儿？现在全球一处热点都没有，应该是历史上最和平的年代了。, persona:*, type_of:CHAT>], [<Statement text:是的，整个人类历史也是偶然，从石器时代到今天，都没什么重大变故，真幸运。但既然是幸运，总有结束的一天；现在我告诉你，结束了，做好思想准备吧。, persona:*, type_of:CHAT>, <Statement text:得承认今天我的理解力太差了，您这岂不是说......, persona:*, type_of:CHAT>, <Statement text:都是偶然。, persona:*, type_of:CHAT>, <Statement text:可......多少代人都是这么平淡地过来的。, persona:*, type_of:CHAT>, <Statement text:那大部分人的人生都是偶然。, persona:*, type_of:CHAT>, <Statement text:大部分人都是这样嘛。, persona:*, type_of:CHAT>]), ([<Statement text:大部分人都是这样嘛。, persona:*, type_of:CHAT>, <Statement text:那你的生活是一种偶然，世界有这么多变幻莫测的因素，你的人生却没什么变故。, persona:*, type_of:CHAT>, <Statement text:没有。, persona:*, type_of:CHAT>, <Statement text:可战争在哪儿？现在全球一处热点都没有，应该是历史上最和平的年代了。, persona:*, type_of:CHAT>], [<Statement text:是的，整个人类历史也是偶然，从石器时代到今天，都没什么重大变故，真幸运。但既然是幸运，总有结束的一天；现在我告诉你，结束了，做好思想准备吧。, persona:*, type_of:CHAT>, <Statement text:得承认今天我的理解力太差了，您这岂不是说......, persona:*, type_of:CHAT>, <Statement text:都是偶然。, persona:*, type_of:CHAT>, <Statement text:可......多少代人都是这么平淡地过来的。, persona:*, type_of:CHAT>, <Statement text:那大部分人的人生都是偶然。, persona:*, type_of:CHAT>, <Statement text:大部分人都是这样嘛。, persona:*, type_of:CHAT>]), ([<Statement text:哈？像{name}这种鶸吗？本小姐让你一只手都能打10个这样的你, persona:bot:Alice, type_of:A>, <Statement text:不给我签到我就打你, persona:user:*, type_of:Q>], [<Statement text:哈？像{name}这种鶸吗？本小姐让你一只手都能打10个这样的你, persona:bot:Alice, type_of:A>]), ([<Statement text:你怎么这样, persona:user:*, type_of:Q>], [<Statement text:你怎么这样, persona:user:*, type_of:Q>]), ([<Statement text:大部分人都是这样嘛。, persona:*, type_of:CHAT>, <Statement text:那你的生活是一种偶然，世界有这么多变幻莫测的因素，你的人生却没什么变故。, persona:*, type_of:CHAT>, <Statement text:没有。, persona:*, type_of:CHAT>, <Statement text:可战争在哪儿？现在全球一处热点都没有，应该是历史上最和平的年代了。, persona:*, type_of:CHAT>], [<Statement text:是的，整个人类历史也是偶然，从石器时代到今天，都没什么重大变故，真幸运。但既然是幸运，总有结束的一天；现在我告诉你，结束了，做好思想准备吧。, persona:*, type_of:CHAT>, <Statement text:得承认今天我的理解力太差了，您这岂不是说......, persona:*, type_of:CHAT>, <Statement text:都是偶然。, persona:*, type_of:CHAT>, <Statement text:可......多少代人都是这么平淡地过来的。, persona:*, type_of:CHAT>, <Statement text:那大部分人的人生都是偶然。, persona:*, type_of:CHAT>, <Statement text:大部分人都是这样嘛。, persona:*, type_of:CHAT>]), ([<Statement text:都是偶然。, persona:*, type_of:CHAT>, <Statement text:可......多少代人都是这么平淡地过来的。, persona:*, type_of:CHAT>, <Statement text:那大部分人的人生都是偶然。, persona:*, type_of:CHAT>, <Statement text:大部分人都是这样嘛。, persona:*, type_of:CHAT>, <Statement text:那你的生活是一种偶然，世界有这么多变幻莫测的因素，你的人生却没什么变故。, persona:*, type_of:CHAT>, <Statement text:没有。, persona:*, type_of:CHAT>, <Statement text:可战争在哪儿？现在全球一处热点都没有，应该是历史上最和平的年代了。, persona:*, type_of:CHAT>], [<Statement text:是的，整个人类历史也是偶然，从石器时代到今天，都没什么重大变故，真幸运。但既然是幸运，总有结束的一天；现在我告诉你，结束了，做好思想准备吧。, persona:*, type_of:CHAT>, <Statement text:得承认今天我的理解力太差了，您这岂不是说......, persona:*, type_of:CHAT>, <Statement text:都是偶然。, persona:*, type_of:CHAT>]), ([<Statement text:我本来就是这样的，才不是设定什么的呢！, persona:bot:Alice, type_of:A>, <Statement text:你为什么这么矮, persona:user:*, type_of:Q>], [<Statement text:我本来就是这样的，才不是设定什么的呢！, persona:bot:Alice, type_of:A>]), ([<Statement text:都是偶然。, persona:*, type_of:CHAT>, <Statement text:可......多少代人都是这么平淡地过来的。, persona:*, type_of:CHAT>, <Statement text:那大部分人的人生都是偶然。, persona:*, type_of:CHAT>, <Statement text:大部分人都是这样嘛。, persona:*, type_of:CHAT>, <Statement text:那你的生活是一种偶然，世界有这么多变幻莫测的因素，你的人生却没什么变故。, persona:*, type_of:CHAT>, <Statement text:没有。, persona:*, type_of:CHAT>, <Statement text:可战争在哪儿？现在全球一处热点都没有，应该是历史上最和平的年代了。, persona:*, type_of:CHAT>], [<Statement text:是的，整个人类历史也是偶然，从石器时代到今天，都没什么重大变故，真幸运。但既然是幸运，总有结束的一天；现在我告诉你，结束了，做好思想准备吧。, persona:*, type_of:CHAT>, <Statement text:得承认今天我的理解力太差了，您这岂不是说......, persona:*, type_of:CHAT>, <Statement text:都是偶然。, persona:*, type_of:CHAT>]), ([<Statement text:（咳）...既然你都这样了，那我就免为其难的答应了，心怀感激地抱起我吧…尼酱～, persona:bot:Alice, type_of:A>, <Statement text:一起吗, persona:user:*, type_of:Q>], [<Statement text:（咳）...既然你都这样了，那我就免为其难的答应了，心怀感激地抱起我吧…尼酱～, persona:bot:Alice, type_of:A>]), ([<Statement text:都是偶然。, persona:*, type_of:CHAT>, <Statement text:可......多少代人都是这么平淡地过来的。, persona:*, type_of:CHAT>, <Statement text:那大部分人的人生都是偶然。, persona:*, type_of:CHAT>, <Statement text:大部分人都是这样嘛。, persona:*, type_of:CHAT>, <Statement text:那你的生活是一种偶然，世界有这么多变幻莫测的因素，你的人生却没什么变故。, persona:*, type_of:CHAT>, <Statement text:没有。, persona:*, type_of:CHAT>, <Statement text:可战争在哪儿？现在全球一处热点都没有，应该是历史上最和平的年代了。, persona:*, type_of:CHAT>], [<Statement text:是的，整个人类历史也是偶然，从石器时代到今天，都没什么重大变故，真幸运。但既然是幸运，总有结束的一天；现在我告诉你，结束了，做好思想准备吧。, persona:*, type_of:CHAT>, <Statement text:得承认今天我的理解力太差了，您这岂不是说......, persona:*, type_of:CHAT>, <Statement text:都是偶然。, persona:*, type_of:CHAT>]), ([<Statement text:你这样我不习惯, persona:user:*, type_of:Q>], [<Statement text:你这样我不习惯, persona:user:*, type_of:Q>]), ([<Statement text:都是偶然。, persona:*, type_of:CHAT>, <Statement text:可......多少代人都是这么平淡地过来的。, persona:*, type_of:CHAT>, <Statement text:那大部分人的人生都是偶然。, persona:*, type_of:CHAT>, <Statement text:大部分人都是这样嘛。, persona:*, type_of:CHAT>, <Statement text:那你的生活是一种偶然，世界有这么多变幻莫测的因素，你的人生却没什么变故。, persona:*, type_of:CHAT>, <Statement text:没有。, persona:*, type_of:CHAT>, <Statement text:可战争在哪儿？现在全球一处热点都没有，应该是历史上最和平的年代了。, persona:*, type_of:CHAT>], [<Statement text:是的，整个人类历史也是偶然，从石器时代到今天，都没什么重大变故，真幸运。但既然是幸运，总有结束的一天；现在我告诉你，结束了，做好思想准备吧。, persona:*, type_of:CHAT>, <Statement text:得承认今天我的理解力太差了，您这岂不是说......, persona:*, type_of:CHAT>, <Statement text:都是偶然。, persona:*, type_of:CHAT>]), ([<Statement text:都是偶然。, persona:*, type_of:CHAT>, <Statement text:可......多少代人都是这么平淡地过来的。, persona:*, type_of:CHAT>, <Statement text:那大部分人的人生都是偶然。, persona:*, type_of:CHAT>, <Statement text:大部分人都是这样嘛。, persona:*, type_of:CHAT>, <Statement text:那你的生活是一种偶然，世界有这么多变幻莫测的因素，你的人生却没什么变故。, persona:*, type_of:CHAT>, <Statement text:没有。, persona:*, type_of:CHAT>, <Statement text:可战争在哪儿？现在全球一处热点都没有，应该是历史上最和平的年代了。, persona:*, type_of:CHAT>], [<Statement text:是的，整个人类历史也是偶然，从石器时代到今天，都没什么重大变故，真幸运。但既然是幸运，总有结束的一天；现在我告诉你，结束了，做好思想准备吧。, persona:*, type_of:CHAT>, <Statement text:得承认今天我的理解力太差了，您这岂不是说......, persona:*, type_of:CHAT>, <Statement text:都是偶然。, persona:*, type_of:CHAT>]), ([<Statement text:大部分人都是这样嘛。, persona:*, type_of:CHAT>, <Statement text:那你的生活是一种偶然，世界有这么多变幻莫测的因素，你的人生却没什么变故。, persona:*, type_of:CHAT>, <Statement text:没有。, persona:*, type_of:CHAT>, <Statement text:可战争在哪儿？现在全球一处热点都没有，应该是历史上最和平的年代了。, persona:*, type_of:CHAT>], [<Statement text:是的，整个人类历史也是偶然，从石器时代到今天，都没什么重大变故，真幸运。但既然是幸运，总有结束的一天；现在我告诉你，结束了，做好思想准备吧。, persona:*, type_of:CHAT>, <Statement text:得承认今天我的理解力太差了，您这岂不是说......, persona:*, type_of:CHAT>, <Statement text:都是偶然。, persona:*, type_of:CHAT>, <Statement text:可......多少代人都是这么平淡地过来的。, persona:*, type_of:CHAT>, <Statement text:那大部分人的人生都是偶然。, persona:*, type_of:CHAT>, <Statement text:大部分人都是这样嘛。, persona:*, type_of:CHAT>]), ([<Statement text:大部分人都是这样嘛。, persona:*, type_of:CHAT>, <Statement text:那你的生活是一种偶然，世界有这么多变幻莫测的因素，你的人生却没什么变故。, persona:*, type_of:CHAT>, <Statement text:没有。, persona:*, type_of:CHAT>, <Statement text:可战争在哪儿？现在全球一处热点都没有，应该是历史上最和平的年代了。, persona:*, type_of:CHAT>], [<Statement text:是的，整个人类历史也是偶然，从石器时代到今天，都没什么重大变故，真幸运。但既然是幸运，总有结束的一天；现在我告诉你，结束了，做好思想准备吧。, persona:*, type_of:CHAT>, <Statement text:得承认今天我的理解力太差了，您这岂不是说......, persona:*, type_of:CHAT>, <Statement text:都是偶然。, persona:*, type_of:CHAT>, <Statement text:可......多少代人都是这么平淡地过来的。, persona:*, type_of:CHAT>, <Statement text:那大部分人的人生都是偶然。, persona:*, type_of:CHAT>, <Statement text:大部分人都是这样嘛。, persona:*, type_of:CHAT>]), ([<Statement text:什什什什什么？小可爱？？？哼，我才不会这样呢, persona:bot:Alice, type_of:A>, <Statement text:小可爱, persona:user:*, type_of:Q>], [<Statement text:什什什什什么？小可爱？？？哼，我才不会这样呢, persona:bot:Alice, type_of:A>]), ([<Statement text:大部分人都是这样嘛。, persona:*, type_of:CHAT>, <Statement text:那你的生活是一种偶然，世界有这么多变幻莫测的因素，你的人生却没什么变故。, persona:*, type_of:CHAT>, <Statement text:没有。, persona:*, type_of:CHAT>, <Statement text:可战争在哪儿？现在全球一处热点都没有，应该是历史上最和平的年代了。, persona:*, type_of:CHAT>], [<Statement text:是的，整个人类历史也是偶然，从石器时代到今天，都没什么重大变故，真幸运。但既然是幸运，总有结束的一天；现在我告诉你，结束了，做好思想准备吧。, persona:*, type_of:CHAT>, <Statement text:得承认今天我的理解力太差了，您这岂不是说......, persona:*, type_of:CHAT>, <Statement text:都是偶然。, persona:*, type_of:CHAT>, <Statement text:可......多少代人都是这么平淡地过来的。, persona:*, type_of:CHAT>, <Statement text:那大部分人的人生都是偶然。, persona:*, type_of:CHAT>, <Statement text:大部分人都是这样嘛。, persona:*, type_of:CHAT>])]\n",
      "MatchSys.get_response \t - \t 耗时：0.7988971000304446秒\n",
      "那大部分人的人生都是偶然。\n",
      "Search List:可 ..... . 多少 代 人 都 是 这么 平淡 地 过来 的 。\n",
      "DocVectorSearch Match 5 result\n",
      "DocVectorSearch.search \t - \t 耗时：0.019817600026726723秒\n",
      "TextSearch.search \t - \t 耗时：0.0029607999604195356秒\n",
      "SQLStorageAdapter.get_semantics_by_text \t - \t 耗时：6.00004568696022e-07秒\n",
      "IntentTextSearch.search \t - \t 耗时：0.004129400011152029秒\n",
      "[([<Statement text:可......多少代人都是这么平淡地过来的。, persona:*, type_of:CHAT>, <Statement text:那大部分人的人生都是偶然。, persona:*, type_of:CHAT>, <Statement text:大部分人都是这样嘛。, persona:*, type_of:CHAT>, <Statement text:那你的生活是一种偶然，世界有这么多变幻莫测的因素，你的人生却没什么变故。, persona:*, type_of:CHAT>, <Statement text:没有。, persona:*, type_of:CHAT>, <Statement text:可战争在哪儿？现在全球一处热点都没有，应该是历史上最和平的年代了。, persona:*, type_of:CHAT>], [<Statement text:是的，整个人类历史也是偶然，从石器时代到今天，都没什么重大变故，真幸运。但既然是幸运，总有结束的一天；现在我告诉你，结束了，做好思想准备吧。, persona:*, type_of:CHAT>, <Statement text:得承认今天我的理解力太差了，您这岂不是说......, persona:*, type_of:CHAT>, <Statement text:都是偶然。, persona:*, type_of:CHAT>, <Statement text:可......多少代人都是这么平淡地过来的。, persona:*, type_of:CHAT>]), ([<Statement text:可......多少代人都是这么平淡地过来的。, persona:*, type_of:CHAT>, <Statement text:那大部分人的人生都是偶然。, persona:*, type_of:CHAT>, <Statement text:大部分人都是这样嘛。, persona:*, type_of:CHAT>, <Statement text:那你的生活是一种偶然，世界有这么多变幻莫测的因素，你的人生却没什么变故。, persona:*, type_of:CHAT>, <Statement text:没有。, persona:*, type_of:CHAT>, <Statement text:可战争在哪儿？现在全球一处热点都没有，应该是历史上最和平的年代了。, persona:*, type_of:CHAT>], [<Statement text:是的，整个人类历史也是偶然，从石器时代到今天，都没什么重大变故，真幸运。但既然是幸运，总有结束的一天；现在我告诉你，结束了，做好思想准备吧。, persona:*, type_of:CHAT>, <Statement text:得承认今天我的理解力太差了，您这岂不是说......, persona:*, type_of:CHAT>, <Statement text:都是偶然。, persona:*, type_of:CHAT>, <Statement text:可......多少代人都是这么平淡地过来的。, persona:*, type_of:CHAT>]), ([<Statement text:可......多少代人都是这么平淡地过来的。, persona:*, type_of:CHAT>, <Statement text:那大部分人的人生都是偶然。, persona:*, type_of:CHAT>, <Statement text:大部分人都是这样嘛。, persona:*, type_of:CHAT>, <Statement text:那你的生活是一种偶然，世界有这么多变幻莫测的因素，你的人生却没什么变故。, persona:*, type_of:CHAT>, <Statement text:没有。, persona:*, type_of:CHAT>, <Statement text:可战争在哪儿？现在全球一处热点都没有，应该是历史上最和平的年代了。, persona:*, type_of:CHAT>], [<Statement text:是的，整个人类历史也是偶然，从石器时代到今天，都没什么重大变故，真幸运。但既然是幸运，总有结束的一天；现在我告诉你，结束了，做好思想准备吧。, persona:*, type_of:CHAT>, <Statement text:得承认今天我的理解力太差了，您这岂不是说......, persona:*, type_of:CHAT>, <Statement text:都是偶然。, persona:*, type_of:CHAT>, <Statement text:可......多少代人都是这么平淡地过来的。, persona:*, type_of:CHAT>]), ([<Statement text:可......多少代人都是这么平淡地过来的。, persona:*, type_of:CHAT>, <Statement text:那大部分人的人生都是偶然。, persona:*, type_of:CHAT>, <Statement text:大部分人都是这样嘛。, persona:*, type_of:CHAT>, <Statement text:那你的生活是一种偶然，世界有这么多变幻莫测的因素，你的人生却没什么变故。, persona:*, type_of:CHAT>, <Statement text:没有。, persona:*, type_of:CHAT>, <Statement text:可战争在哪儿？现在全球一处热点都没有，应该是历史上最和平的年代了。, persona:*, type_of:CHAT>], [<Statement text:是的，整个人类历史也是偶然，从石器时代到今天，都没什么重大变故，真幸运。但既然是幸运，总有结束的一天；现在我告诉你，结束了，做好思想准备吧。, persona:*, type_of:CHAT>, <Statement text:得承认今天我的理解力太差了，您这岂不是说......, persona:*, type_of:CHAT>, <Statement text:都是偶然。, persona:*, type_of:CHAT>, <Statement text:可......多少代人都是这么平淡地过来的。, persona:*, type_of:CHAT>]), ([<Statement text:可......多少代人都是这么平淡地过来的。, persona:*, type_of:CHAT>, <Statement text:那大部分人的人生都是偶然。, persona:*, type_of:CHAT>, <Statement text:大部分人都是这样嘛。, persona:*, type_of:CHAT>, <Statement text:那你的生活是一种偶然，世界有这么多变幻莫测的因素，你的人生却没什么变故。, persona:*, type_of:CHAT>, <Statement text:没有。, persona:*, type_of:CHAT>, <Statement text:可战争在哪儿？现在全球一处热点都没有，应该是历史上最和平的年代了。, persona:*, type_of:CHAT>], [<Statement text:是的，整个人类历史也是偶然，从石器时代到今天，都没什么重大变故，真幸运。但既然是幸运，总有结束的一天；现在我告诉你，结束了，做好思想准备吧。, persona:*, type_of:CHAT>, <Statement text:得承认今天我的理解力太差了，您这岂不是说......, persona:*, type_of:CHAT>, <Statement text:都是偶然。, persona:*, type_of:CHAT>, <Statement text:可......多少代人都是这么平淡地过来的。, persona:*, type_of:CHAT>]), ([<Statement text:可......多少代人都是这么平淡地过来的。, persona:*, type_of:CHAT>, <Statement text:那大部分人的人生都是偶然。, persona:*, type_of:CHAT>, <Statement text:大部分人都是这样嘛。, persona:*, type_of:CHAT>, <Statement text:那你的生活是一种偶然，世界有这么多变幻莫测的因素，你的人生却没什么变故。, persona:*, type_of:CHAT>, <Statement text:没有。, persona:*, type_of:CHAT>, <Statement text:可战争在哪儿？现在全球一处热点都没有，应该是历史上最和平的年代了。, persona:*, type_of:CHAT>], [<Statement text:是的，整个人类历史也是偶然，从石器时代到今天，都没什么重大变故，真幸运。但既然是幸运，总有结束的一天；现在我告诉你，结束了，做好思想准备吧。, persona:*, type_of:CHAT>, <Statement text:得承认今天我的理解力太差了，您这岂不是说......, persona:*, type_of:CHAT>, <Statement text:都是偶然。, persona:*, type_of:CHAT>, <Statement text:可......多少代人都是这么平淡地过来的。, persona:*, type_of:CHAT>]), ([<Statement text:可......多少代人都是这么平淡地过来的。, persona:*, type_of:CHAT>, <Statement text:那大部分人的人生都是偶然。, persona:*, type_of:CHAT>, <Statement text:大部分人都是这样嘛。, persona:*, type_of:CHAT>, <Statement text:那你的生活是一种偶然，世界有这么多变幻莫测的因素，你的人生却没什么变故。, persona:*, type_of:CHAT>, <Statement text:没有。, persona:*, type_of:CHAT>, <Statement text:可战争在哪儿？现在全球一处热点都没有，应该是历史上最和平的年代了。, persona:*, type_of:CHAT>], [<Statement text:是的，整个人类历史也是偶然，从石器时代到今天，都没什么重大变故，真幸运。但既然是幸运，总有结束的一天；现在我告诉你，结束了，做好思想准备吧。, persona:*, type_of:CHAT>, <Statement text:得承认今天我的理解力太差了，您这岂不是说......, persona:*, type_of:CHAT>, <Statement text:都是偶然。, persona:*, type_of:CHAT>, <Statement text:可......多少代人都是这么平淡地过来的。, persona:*, type_of:CHAT>])]\n",
      "MatchSys.get_response \t - \t 耗时：0.20817279996117577秒\n",
      "都是偶然。\n",
      "Search List:得 承认 今天 我 的 理解力 太 差 了 ， 您 这 岂 不 是 说 ..... .\n",
      "DocVectorSearch Match 5 result\n",
      "DocVectorSearch.search \t - \t 耗时：0.018310700019355863秒\n",
      "TextSearch.search \t - \t 耗时：0.00294700002996251秒\n",
      "SQLStorageAdapter.get_semantics_by_text \t - \t 耗时：4.00003045797348e-07秒\n",
      "SQLStorageAdapter.get_semantics_by_text \t - \t 耗时：5.00003807246685e-07秒\n",
      "IntentTextSearch.search \t - \t 耗时：0.007475999998860061秒\n",
      "[([<Statement text:得承认今天我的理解力太差了，您这岂不是说......, persona:*, type_of:CHAT>, <Statement text:都是偶然。, persona:*, type_of:CHAT>, <Statement text:可......多少代人都是这么平淡地过来的。, persona:*, type_of:CHAT>, <Statement text:那大部分人的人生都是偶然。, persona:*, type_of:CHAT>, <Statement text:大部分人都是这样嘛。, persona:*, type_of:CHAT>, <Statement text:那你的生活是一种偶然，世界有这么多变幻莫测的因素，你的人生却没什么变故。, persona:*, type_of:CHAT>, <Statement text:没有。, persona:*, type_of:CHAT>, <Statement text:可战争在哪儿？现在全球一处热点都没有，应该是历史上最和平的年代了。, persona:*, type_of:CHAT>], [<Statement text:是的，整个人类历史也是偶然，从石器时代到今天，都没什么重大变故，真幸运。但既然是幸运，总有结束的一天；现在我告诉你，结束了，做好思想准备吧。, persona:*, type_of:CHAT>, <Statement text:得承认今天我的理解力太差了，您这岂不是说......, persona:*, type_of:CHAT>]), ([<Statement text:得承认今天我的理解力太差了，您这岂不是说......, persona:*, type_of:CHAT>, <Statement text:都是偶然。, persona:*, type_of:CHAT>, <Statement text:可......多少代人都是这么平淡地过来的。, persona:*, type_of:CHAT>, <Statement text:那大部分人的人生都是偶然。, persona:*, type_of:CHAT>, <Statement text:大部分人都是这样嘛。, persona:*, type_of:CHAT>, <Statement text:那你的生活是一种偶然，世界有这么多变幻莫测的因素，你的人生却没什么变故。, persona:*, type_of:CHAT>, <Statement text:没有。, persona:*, type_of:CHAT>, <Statement text:可战争在哪儿？现在全球一处热点都没有，应该是历史上最和平的年代了。, persona:*, type_of:CHAT>], [<Statement text:是的，整个人类历史也是偶然，从石器时代到今天，都没什么重大变故，真幸运。但既然是幸运，总有结束的一天；现在我告诉你，结束了，做好思想准备吧。, persona:*, type_of:CHAT>, <Statement text:得承认今天我的理解力太差了，您这岂不是说......, persona:*, type_of:CHAT>]), ([<Statement text:得承认今天我的理解力太差了，您这岂不是说......, persona:*, type_of:CHAT>, <Statement text:都是偶然。, persona:*, type_of:CHAT>, <Statement text:可......多少代人都是这么平淡地过来的。, persona:*, type_of:CHAT>, <Statement text:那大部分人的人生都是偶然。, persona:*, type_of:CHAT>, <Statement text:大部分人都是这样嘛。, persona:*, type_of:CHAT>, <Statement text:那你的生活是一种偶然，世界有这么多变幻莫测的因素，你的人生却没什么变故。, persona:*, type_of:CHAT>, <Statement text:没有。, persona:*, type_of:CHAT>, <Statement text:可战争在哪儿？现在全球一处热点都没有，应该是历史上最和平的年代了。, persona:*, type_of:CHAT>], [<Statement text:是的，整个人类历史也是偶然，从石器时代到今天，都没什么重大变故，真幸运。但既然是幸运，总有结束的一天；现在我告诉你，结束了，做好思想准备吧。, persona:*, type_of:CHAT>, <Statement text:得承认今天我的理解力太差了，您这岂不是说......, persona:*, type_of:CHAT>]), ([<Statement text:承认什么啊，本小姐可没有做什么亏心事, persona:bot:Alice, type_of:A>, <Statement text:你承认吗, persona:user:*, type_of:Q>], [<Statement text:承认什么啊，本小姐可没有做什么亏心事, persona:bot:Alice, type_of:A>]), ([<Statement text:得承认今天我的理解力太差了，您这岂不是说......, persona:*, type_of:CHAT>, <Statement text:都是偶然。, persona:*, type_of:CHAT>, <Statement text:可......多少代人都是这么平淡地过来的。, persona:*, type_of:CHAT>, <Statement text:那大部分人的人生都是偶然。, persona:*, type_of:CHAT>, <Statement text:大部分人都是这样嘛。, persona:*, type_of:CHAT>, <Statement text:那你的生活是一种偶然，世界有这么多变幻莫测的因素，你的人生却没什么变故。, persona:*, type_of:CHAT>, <Statement text:没有。, persona:*, type_of:CHAT>, <Statement text:可战争在哪儿？现在全球一处热点都没有，应该是历史上最和平的年代了。, persona:*, type_of:CHAT>], [<Statement text:是的，整个人类历史也是偶然，从石器时代到今天，都没什么重大变故，真幸运。但既然是幸运，总有结束的一天；现在我告诉你，结束了，做好思想准备吧。, persona:*, type_of:CHAT>, <Statement text:得承认今天我的理解力太差了，您这岂不是说......, persona:*, type_of:CHAT>]), ([<Statement text:得承认今天我的理解力太差了，您这岂不是说......, persona:*, type_of:CHAT>, <Statement text:都是偶然。, persona:*, type_of:CHAT>, <Statement text:可......多少代人都是这么平淡地过来的。, persona:*, type_of:CHAT>, <Statement text:那大部分人的人生都是偶然。, persona:*, type_of:CHAT>, <Statement text:大部分人都是这样嘛。, persona:*, type_of:CHAT>, <Statement text:那你的生活是一种偶然，世界有这么多变幻莫测的因素，你的人生却没什么变故。, persona:*, type_of:CHAT>, <Statement text:没有。, persona:*, type_of:CHAT>, <Statement text:可战争在哪儿？现在全球一处热点都没有，应该是历史上最和平的年代了。, persona:*, type_of:CHAT>], [<Statement text:是的，整个人类历史也是偶然，从石器时代到今天，都没什么重大变故，真幸运。但既然是幸运，总有结束的一天；现在我告诉你，结束了，做好思想准备吧。, persona:*, type_of:CHAT>, <Statement text:得承认今天我的理解力太差了，您这岂不是说......, persona:*, type_of:CHAT>]), ([<Statement text:得承认今天我的理解力太差了，您这岂不是说......, persona:*, type_of:CHAT>, <Statement text:都是偶然。, persona:*, type_of:CHAT>, <Statement text:可......多少代人都是这么平淡地过来的。, persona:*, type_of:CHAT>, <Statement text:那大部分人的人生都是偶然。, persona:*, type_of:CHAT>, <Statement text:大部分人都是这样嘛。, persona:*, type_of:CHAT>, <Statement text:那你的生活是一种偶然，世界有这么多变幻莫测的因素，你的人生却没什么变故。, persona:*, type_of:CHAT>, <Statement text:没有。, persona:*, type_of:CHAT>, <Statement text:可战争在哪儿？现在全球一处热点都没有，应该是历史上最和平的年代了。, persona:*, type_of:CHAT>], [<Statement text:是的，整个人类历史也是偶然，从石器时代到今天，都没什么重大变故，真幸运。但既然是幸运，总有结束的一天；现在我告诉你，结束了，做好思想准备吧。, persona:*, type_of:CHAT>, <Statement text:得承认今天我的理解力太差了，您这岂不是说......, persona:*, type_of:CHAT>]), ([<Statement text:得承认今天我的理解力太差了，您这岂不是说......, persona:*, type_of:CHAT>, <Statement text:都是偶然。, persona:*, type_of:CHAT>, <Statement text:可......多少代人都是这么平淡地过来的。, persona:*, type_of:CHAT>, <Statement text:那大部分人的人生都是偶然。, persona:*, type_of:CHAT>, <Statement text:大部分人都是这样嘛。, persona:*, type_of:CHAT>, <Statement text:那你的生活是一种偶然，世界有这么多变幻莫测的因素，你的人生却没什么变故。, persona:*, type_of:CHAT>, <Statement text:没有。, persona:*, type_of:CHAT>, <Statement text:可战争在哪儿？现在全球一处热点都没有，应该是历史上最和平的年代了。, persona:*, type_of:CHAT>], [<Statement text:是的，整个人类历史也是偶然，从石器时代到今天，都没什么重大变故，真幸运。但既然是幸运，总有结束的一天；现在我告诉你，结束了，做好思想准备吧。, persona:*, type_of:CHAT>, <Statement text:得承认今天我的理解力太差了，您这岂不是说......, persona:*, type_of:CHAT>]), ([<Statement text:得承认今天我的理解力太差了，您这岂不是说......, persona:*, type_of:CHAT>, <Statement text:都是偶然。, persona:*, type_of:CHAT>, <Statement text:可......多少代人都是这么平淡地过来的。, persona:*, type_of:CHAT>, <Statement text:那大部分人的人生都是偶然。, persona:*, type_of:CHAT>, <Statement text:大部分人都是这样嘛。, persona:*, type_of:CHAT>, <Statement text:那你的生活是一种偶然，世界有这么多变幻莫测的因素，你的人生却没什么变故。, persona:*, type_of:CHAT>, <Statement text:没有。, persona:*, type_of:CHAT>, <Statement text:可战争在哪儿？现在全球一处热点都没有，应该是历史上最和平的年代了。, persona:*, type_of:CHAT>], [<Statement text:是的，整个人类历史也是偶然，从石器时代到今天，都没什么重大变故，真幸运。但既然是幸运，总有结束的一天；现在我告诉你，结束了，做好思想准备吧。, persona:*, type_of:CHAT>, <Statement text:得承认今天我的理解力太差了，您这岂不是说......, persona:*, type_of:CHAT>])]\n",
      "MatchSys.get_response \t - \t 耗时：0.2467426999937743秒\n",
      "是的，整个人类历史也是偶然，从石器时代到今天，都没什么重大变故，真幸运。但既然是幸运，总有结束的一天；现在我告诉你，结束了，做好思想准备吧。\n",
      "MatchSys.get_response \t - \t 耗时：5.299982149153948e-06秒\n",
      "None\n"
     ]
    }
   ],
   "source": [
    "while True:\n",
    "    message = input('>')\n",
    "    if message == 'exit':\n",
    "        break\n",
    "    else:\n",
    "        print(ms.get_response(message))"
   ]
  },
  {
   "cell_type": "code",
   "execution_count": null,
   "metadata": {},
   "outputs": [],
   "source": []
  }
 ],
 "metadata": {
  "kernelspec": {
   "display_name": "base",
   "language": "python",
   "name": "python3"
  },
  "language_info": {
   "codemirror_mode": {
    "name": "ipython",
    "version": 3
   },
   "file_extension": ".py",
   "mimetype": "text/x-python",
   "name": "python",
   "nbconvert_exporter": "python",
   "pygments_lexer": "ipython3",
   "version": "3.11.5"
  }
 },
 "nbformat": 4,
 "nbformat_minor": 2
}
