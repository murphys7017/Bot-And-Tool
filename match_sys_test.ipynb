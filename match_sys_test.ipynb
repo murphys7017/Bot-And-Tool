{
 "cells": [
  {
   "cell_type": "code",
   "execution_count": 1,
   "metadata": {},
   "outputs": [
    {
     "name": "stdout",
     "output_type": "stream",
     "text": [
      "Starting initialization of ModelBase\n",
      "Starting initialization of MatchSys\n",
      "开始生成index\n"
     ]
    }
   ],
   "source": [
    "import sys\n",
    "from MatchSys import config\n",
    "from MatchSys import MatchSys\n",
    "\n",
    "ms = MatchSys(\n",
    "        name='teat_sys',\n",
    "        ltp_model_path=r'data\\LtpModel',\n",
    "        database_uri='sqlite:///data/db.sqlite3',\n",
    "        text_vec_model_path=r'data\\model.bin',\n",
    "        vector_similarity_rate=0.7,\n",
    "        most_similar_number=10,\n",
    "        vector_match_times=5,\n",
    "        need_ltp=False,\n",
    "        search_adapters_name_list=['MatchSys.search.TextSearch','MatchSys.search.FaissSearch'],\n",
    "        signal_file_size=10000\n",
    "    )"
   ]
  },
  {
   "cell_type": "code",
   "execution_count": null,
   "metadata": {},
   "outputs": [],
   "source": [
    "from MatchSys.trainer.base_chat_list_trainer import ChatListTrainer\n",
    "\n",
    "\n",
    "trainer = ChatListTrainer(ms)\n",
    "\n",
    "\n",
    "data = [\n",
    "    [\n",
    "        '可战争在哪儿？现在全球一处热点都没有，应该是历史上最和平的年代了。',\n",
    "        '没有。',\n",
    "        '那你的生活是一种偶然，世界有这么多变幻莫测的因素，你的人生却没什么变故。',\n",
    "        '大部分人都是这样嘛。',\n",
    "        '那大部分人的人生都是偶然。',\n",
    "        '可......多少代人都是这么平淡地过来的。',\n",
    "        '都是偶然。',\n",
    "        '得承认今天我的理解力太差了，您这岂不是说......',\n",
    "        '是的，整个人类历史也是偶然，从石器时代到今天，都没什么重大变故，真幸运。但既然是幸运，总有结束的一天；现在我告诉你，结束了，做好思想准备吧。',\n",
    "    ]\n",
    "]\n",
    "        \n",
    "trainer.train(data,type_of='CHAT', persona='*')"
   ]
  },
  {
   "cell_type": "code",
   "execution_count": 2,
   "metadata": {},
   "outputs": [
    {
     "name": "stdout",
     "output_type": "stream",
     "text": [
      "FaissSearch.get_endcode_time \t - \t 耗时：0.029582699993625283秒\n",
      "FaissSearch.search \t - \t 耗时：0.04724549991078675秒\n",
      "MatchSys.build_statement_chain \t - \t 耗时：0.13008709996938705秒\n"
     ]
    },
    {
     "data": {
      "text/plain": [
       "'那你的生活是一种偶然，世界有这么多变幻莫测的因素，你的人生却没什么变故。'"
      ]
     },
     "execution_count": 2,
     "metadata": {},
     "output_type": "execute_result"
    }
   ],
   "source": [
    "ms.get_response('没有。')"
   ]
  },
  {
   "cell_type": "code",
   "execution_count": 2,
   "metadata": {},
   "outputs": [],
   "source": [
    "file = open(r\"C:\\Users\\Administrator\\Downloads\\白给？整活？摆烂！.txt\")\n",
    "data = file.readlines()"
   ]
  },
  {
   "cell_type": "code",
   "execution_count": 3,
   "metadata": {},
   "outputs": [],
   "source": [
    "import datetime\n",
    "new_lines = []\n",
    "temp = ''\n",
    "count = 0\n",
    "for line in data:\n",
    "    temp = temp + line\n",
    "    count = count + 1\n",
    "    if count == 3:\n",
    "        count = 0\n",
    "        if '图片' not in str(temp):\n",
    "            temp = temp.replace('\\n', '')\n",
    "            temp = temp.split(' ')\n",
    "            t = datetime.datetime.strptime(temp[0]+ ' ' +temp[1],\"%Y-%m-%d %H:%M:%S\")\n",
    "            new_lines.append((t, ' '.join(temp[2:])))\n",
    "        temp = ''"
   ]
  },
  {
   "cell_type": "code",
   "execution_count": 4,
   "metadata": {},
   "outputs": [],
   "source": [
    "temp = new_lines[0]\n",
    "duration = 0\n",
    "new_lines_2 = []\n",
    "temp_list = list()\n",
    "for line in new_lines:\n",
    "    duration = line[0] - temp[0]\n",
    "    m = duration.seconds/60\n",
    "    if m < 20:\n",
    "        if ')' in temp[1]:\n",
    "            t = temp[1].split(')')[1] + '\\n powerdBy:' +temp[1].split('(')[0]\n",
    "            temp_list.append( t)\n",
    "    else:\n",
    "        new_lines_2.append(temp_list)\n",
    "    temp = line"
   ]
  },
  {
   "cell_type": "code",
   "execution_count": 5,
   "metadata": {},
   "outputs": [
    {
     "name": "stdout",
     "output_type": "stream",
     "text": [
      "Chat Trainer: [####################] 100%\n",
      "SQLStorageAdapter.create_many \t - \t 耗时：0.056270199827849865秒\n",
      "730-768-1702992785.5583093-vec_ids_data.pkl   2.146 MB\n",
      "载入完毕，数据量 730\n"
     ]
    }
   ],
   "source": [
    "from MatchSys.trainer.base_chat_list_trainer import ChatListTrainer\n",
    "\n",
    "\n",
    "trainer = ChatListTrainer(ms)\n",
    "\n",
    "\n",
    "        \n",
    "trainer.train(new_lines_2,type_of='CHAT', persona='*')"
   ]
  },
  {
   "cell_type": "code",
   "execution_count": 60,
   "metadata": {},
   "outputs": [
    {
     "name": "stdout",
     "output_type": "stream",
     "text": [
      "FaissSearch.get_endcode_time \t - \t 耗时：0.038974600145593286秒\n",
      "FaissSearch.search \t - \t 耗时：0.05256340000778437秒\n",
      "MatchSys.build_statement_chain \t - \t 耗时：0.12318530003540218秒\n"
     ]
    },
    {
     "data": {
      "text/plain": [
       "'没有。'"
      ]
     },
     "execution_count": 60,
     "metadata": {},
     "output_type": "execute_result"
    }
   ],
   "source": [
    "ms.get_response('可战争在哪儿？现在全球一处热点都没有，应该是历史上最和平的年代了。')"
   ]
  },
  {
   "cell_type": "code",
   "execution_count": 9,
   "metadata": {},
   "outputs": [],
   "source": [
    "import pandas as pd\n",
    "map = {}\n",
    "# data = pd.read_excel(r'C:\\Users\\Administrator\\Documents\\GitHub\\QQ-Bot-And-Tool\\data\\FixedReply\\傲娇系二次元bot词库5千词V1.2.xlsx',header=None, sheet_name=0)\n",
    "data = pd.read_excel(r\"C:\\Users\\Administrator\\Documents\\GitHub\\Bot-And-Tool - TrainTest\\data\\FixedReply\\可爱系二次元bot词库1.5万词V1.2.xlsx\",header=None, sheet_name=0)\n",
    "for index,row in data.iterrows():\n",
    "    row[0] = str(row[0]).strip()\n",
    "    row[1] = str(row[1]).strip()\n",
    "    if row[0] in map:\n",
    "        map[row[0]].append(row[1])\n",
    "    else:\n",
    "        map[row[0]] = [row[1]]\n",
    "  "
   ]
  },
  {
   "cell_type": "code",
   "execution_count": 10,
   "metadata": {},
   "outputs": [
    {
     "name": "stdout",
     "output_type": "stream",
     "text": [
      "QA Trainer: [####################] 100%\n",
      "SQLStorageAdapter.create_many \t - \t 耗时：2.2390568999107927秒\n",
      "27190-768-1702994457.371341-vec_ids_data.pkl  79.918 MB\n",
      "载入完毕，数据量 27190\n"
     ]
    }
   ],
   "source": [
    "from MatchSys.trainer.base_qa_trainer import QATrainer\n",
    "\n",
    "trainer = QATrainer(ms)\n",
    "trainer.train(map)"
   ]
  }
 ],
 "metadata": {
  "kernelspec": {
   "display_name": "base",
   "language": "python",
   "name": "python3"
  },
  "language_info": {
   "codemirror_mode": {
    "name": "ipython",
    "version": 3
   },
   "file_extension": ".py",
   "mimetype": "text/x-python",
   "name": "python",
   "nbconvert_exporter": "python",
   "pygments_lexer": "ipython3",
   "version": "3.11.5"
  }
 },
 "nbformat": 4,
 "nbformat_minor": 2
}
