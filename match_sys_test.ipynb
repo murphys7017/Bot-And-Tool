{
 "cells": [
  {
   "cell_type": "code",
   "execution_count": 1,
   "metadata": {},
   "outputs": [
    {
     "name": "stdout",
     "output_type": "stream",
     "text": [
      "1714939965038796800\n",
      "Loading weights from local directory\n",
      "# jionlp - 微信公众号: JioNLP  Github: `https://github.com/dongrixinyu/JioNLP`.\n",
      "# jiojio - `http://www.jionlp.com/jionlp_online/cws_pos` is available for online trial.\n",
      "Parrot started\n"
     ]
    }
   ],
   "source": [
    "from service import config\n",
    "config.initialize()\n",
    "\n",
    "from service.MatchSys import MatchSys\n",
    "ms = MatchSys(\n",
    "        name='teat_sys',\n",
    "        ltp_model_path=r'D:\\Code\\MyLongTimeProject\\A\\QQ-Bot-And-Tool\\data\\LtpModel',\n",
    "        database_uri='sqlite:///data/db.sqlite3',\n",
    "        text_vec_model_path=r'D:\\Code\\MyLongTimeProject\\A\\QQ-Bot-And-Tool\\data\\model.pkl',\n",
    "        vector_similarity_rate=0.7,\n",
    "        most_similar_number=10,\n",
    "        vector_match_times=5,\n",
    "\n",
    "    )"
   ]
  },
  {
   "cell_type": "code",
   "execution_count": null,
   "metadata": {},
   "outputs": [],
   "source": [
    "import pandas as pd\n",
    "map = {}\n",
    "# data = pd.read_excel(r'C:\\Users\\Administrator\\Documents\\GitHub\\QQ-Bot-And-Tool\\data\\FixedReply\\傲娇系二次元bot词库5千词V1.2.xlsx',header=None, sheet_name=0)\n",
    "data = pd.read_excel(r\"D:\\temp\\Downloads\\傲娇系二次元bot词库5千词V1.2.xlsx\",header=None, sheet_name=0)\n",
    "for index,row in data.iterrows():\n",
    "    if row[0] in map:\n",
    "        map[row[0]].append(row[1])\n",
    "    else:\n",
    "        map[row[0]] = [row[1]]\n",
    "from service.MatchSys.trainer import QATrainer\n",
    "trainer = QATrainer(ms)\n"
   ]
  },
  {
   "cell_type": "code",
   "execution_count": 2,
   "metadata": {},
   "outputs": [
    {
     "ename": "NameError",
     "evalue": "name 'trainer' is not defined",
     "output_type": "error",
     "traceback": [
      "\u001b[1;31m---------------------------------------------------------------------------\u001b[0m",
      "\u001b[1;31mNameError\u001b[0m                                 Traceback (most recent call last)",
      "\u001b[1;32md:\\Code\\MyLongTimeProject\\A\\QQ-Bot-And-Tool\\match_sys_test.ipynb Cell 3\u001b[0m line \u001b[0;36m1\n\u001b[1;32m----> <a href='vscode-notebook-cell:/d%3A/Code/MyLongTimeProject/A/QQ-Bot-And-Tool/match_sys_test.ipynb#W5sZmlsZQ%3D%3D?line=0'>1</a>\u001b[0m trainer\u001b[39m.\u001b[39mtrain(\u001b[39mmap\u001b[39m)\n",
      "\u001b[1;31mNameError\u001b[0m: name 'trainer' is not defined"
     ]
    }
   ],
   "source": [
    "trainer.train(map)"
   ]
  },
  {
   "cell_type": "code",
   "execution_count": 3,
   "metadata": {},
   "outputs": [
    {
     "name": "stdout",
     "output_type": "stream",
     "text": [
      "[]\n"
     ]
    },
    {
     "ename": "IndexError",
     "evalue": "list index out of range",
     "output_type": "error",
     "traceback": [
      "\u001b[1;31m---------------------------------------------------------------------------\u001b[0m",
      "\u001b[1;31mIndexError\u001b[0m                                Traceback (most recent call last)",
      "\u001b[1;32md:\\Code\\MyLongTimeProject\\A\\QQ-Bot-And-Tool\\match_sys_test.ipynb Cell 4\u001b[0m line \u001b[0;36m1\n\u001b[1;32m----> <a href='vscode-notebook-cell:/d%3A/Code/MyLongTimeProject/A/QQ-Bot-And-Tool/match_sys_test.ipynb#X14sZmlsZQ%3D%3D?line=0'>1</a>\u001b[0m ms\u001b[39m.\u001b[39;49mget_response(\u001b[39m'\u001b[39;49m\u001b[39m我有蛋糕你要吗\u001b[39;49m\u001b[39m'\u001b[39;49m)\n",
      "File \u001b[1;32md:\\Code\\MyLongTimeProject\\A\\QQ-Bot-And-Tool\\service\\MatchSys\\match_sys.py:192\u001b[0m, in \u001b[0;36mMatchSys.get_response\u001b[1;34m(self, message, **kwargs)\u001b[0m\n\u001b[0;32m    183\u001b[0m     response \u001b[39m=\u001b[39m \u001b[39mself\u001b[39m\u001b[39m.\u001b[39mgenerate_response(input_statement, additional_response_selection_parameters)\n\u001b[0;32m    186\u001b[0m \u001b[39m# if not self.read_only:\u001b[39;00m\n\u001b[0;32m    187\u001b[0m     \u001b[39m# self.learn_response(input_statement)\u001b[39;00m\n\u001b[0;32m    188\u001b[0m \n\u001b[0;32m    189\u001b[0m     \u001b[39m# Save the response generated for the input\u001b[39;00m\n\u001b[0;32m    190\u001b[0m     \u001b[39m# self.storage.create(**response.serialize())\u001b[39;00m\n\u001b[1;32m--> 192\u001b[0m \u001b[39mreturn\u001b[39;00m message_adapter\u001b[39m.\u001b[39;49mprocess_2_output(response)\n",
      "File \u001b[1;32md:\\Code\\MyLongTimeProject\\A\\QQ-Bot-And-Tool\\service\\MatchSys\\message\\message_adapter.py:55\u001b[0m, in \u001b[0;36mMessageAdapter.process_2_output\u001b[1;34m(self, statement)\u001b[0m\n\u001b[0;32m     53\u001b[0m \u001b[39melif\u001b[39;00m statement\u001b[39m.\u001b[39mtype_of \u001b[39m==\u001b[39m \u001b[39m'\u001b[39m\u001b[39mCHAT\u001b[39m\u001b[39m'\u001b[39m:\n\u001b[0;32m     54\u001b[0m     \u001b[39mprint\u001b[39m(statement\u001b[39m.\u001b[39mpredict_statements)\n\u001b[1;32m---> 55\u001b[0m     \u001b[39mreturn\u001b[39;00m random\u001b[39m.\u001b[39;49mchoice(statement\u001b[39m.\u001b[39;49mpredict_statements)\n",
      "File \u001b[1;32md:\\APP\\CodeUse\\Anaconda3\\lib\\random.py:378\u001b[0m, in \u001b[0;36mRandom.choice\u001b[1;34m(self, seq)\u001b[0m\n\u001b[0;32m    376\u001b[0m \u001b[39m\u001b[39m\u001b[39m\"\"\"Choose a random element from a non-empty sequence.\"\"\"\u001b[39;00m\n\u001b[0;32m    377\u001b[0m \u001b[39m# raises IndexError if seq is empty\u001b[39;00m\n\u001b[1;32m--> 378\u001b[0m \u001b[39mreturn\u001b[39;00m seq[\u001b[39mself\u001b[39;49m\u001b[39m.\u001b[39;49m_randbelow(\u001b[39mlen\u001b[39;49m(seq))]\n",
      "\u001b[1;31mIndexError\u001b[0m: list index out of range"
     ]
    }
   ],
   "source": [
    "ms.get_response('我有蛋糕你要吗')"
   ]
  },
  {
   "cell_type": "code",
   "execution_count": null,
   "metadata": {},
   "outputs": [],
   "source": [
    "ms.docvector_tool.inferred2string('我 有 蛋糕 你 要 吗'.split(' '))"
   ]
  },
  {
   "cell_type": "code",
   "execution_count": null,
   "metadata": {},
   "outputs": [],
   "source": [
    "inferred_vector = ms.docvector_tool.model.infer_vector(doc_words='我 有 蛋糕 你 要 吗'.split(' ')) \n",
    "sims = ms.docvector_tool.model.dv.most_similar([inferred_vector],topn=10)\n",
    "for sim in sims:\n",
    "    print(sim)"
   ]
  },
  {
   "cell_type": "code",
   "execution_count": null,
   "metadata": {},
   "outputs": [],
   "source": [
    "input_statement = None\n",
    "response = None\n",
    "message_adapter = None\n",
    "message = '我有蛋糕你要吗'\n",
    "for messageadapter in ms.message_adapters:\n",
    "    if messageadapter.check(message):\n",
    "        message_adapter = messageadapter\n",
    "input_statement = message_adapter.process(message)\n",
    "\n",
    "input_statement_list = []\n",
    "for input_statement_id in ms.docvector_tool.inferred2string(input_statement.search_text.split(' ')):\n",
    "    input_statement_list.append(ms.storage.get_statement_by_id(int(input_statement_id)))\n"
   ]
  }
 ],
 "metadata": {
  "kernelspec": {
   "display_name": "base",
   "language": "python",
   "name": "python3"
  },
  "language_info": {
   "codemirror_mode": {
    "name": "ipython",
    "version": 3
   },
   "file_extension": ".py",
   "mimetype": "text/x-python",
   "name": "python",
   "nbconvert_exporter": "python",
   "pygments_lexer": "ipython3",
   "version": "3.10.13"
  }
 },
 "nbformat": 4,
 "nbformat_minor": 2
}
