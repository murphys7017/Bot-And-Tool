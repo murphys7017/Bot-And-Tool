{
 "cells": [
  {
   "cell_type": "code",
   "execution_count": 1,
   "metadata": {},
   "outputs": [
    {
     "name": "stdout",
     "output_type": "stream",
     "text": [
      "1715289176250916864\n",
      "Loading weights from local directory\n",
      "# jionlp - 微信公众号: JioNLP  Github: `https://github.com/dongrixinyu/JioNLP`.\n",
      "# jiojio - `http://www.jionlp.com/jionlp_online/cws_pos` is available for online trial.\n",
      "Parrot started\n"
     ]
    }
   ],
   "source": [
    "from service import config\n",
    "config.initialize()\n",
    "\n",
    "from service.MatchSys import MatchSys\n",
    "ms = MatchSys(\n",
    "        name='teat_sys',\n",
    "        ltp_model_path=r'D:\\Code\\MyLongTimeProject\\A\\QQ-Bot-And-Tool\\data\\LtpModel',\n",
    "        database_uri='sqlite:///data/db.sqlite3',\n",
    "        text_vec_model_path=r'D:\\Code\\MyLongTimeProject\\A\\QQ-Bot-And-Tool\\data\\model.pkl',\n",
    "        vector_similarity_rate=0.7,\n",
    "        most_similar_number=10,\n",
    "        vector_match_times=5,\n",
    "\n",
    "    )\n",
    "\n",
    "@ms.handle_function_declaration(commands = ['天气怎么样'])\n",
    "def get_weather_abstract_by_hefeng(input_statement):\n",
    "    import requests\n",
    "    from bs4 import BeautifulSoup\n",
    "    get_location_url = 'https://geoapi.qweather.com/v2/city/lookup'\n",
    "    address = input_statement.text.split('天气怎么样')[0]\n",
    "    get_loction_params = {\n",
    "        'key': config.SERVICE_CONFIG.he_feng_key,\n",
    "        'location': address\n",
    "    }\n",
    "    location_data = requests.get(get_location_url,get_loction_params).json()\n",
    "    print(location_data)\n",
    "    location_data = location_data['location'][0]\n",
    "    page = requests.get(location_data['fxLink'])\n",
    "    soup = BeautifulSoup(page.text, 'html.parser')\n",
    "    abstract = soup.find_all('div', class_='current-abstract')[0]\n",
    "    return abstract.text.strip() + '\\n 详细信息：'+location_data['fxLink']"
   ]
  },
  {
   "cell_type": "code",
   "execution_count": null,
   "metadata": {},
   "outputs": [],
   "source": [
    "import pandas as pd\n",
    "map = {}\n",
    "# data = pd.read_excel(r'C:\\Users\\Administrator\\Documents\\GitHub\\QQ-Bot-And-Tool\\data\\FixedReply\\傲娇系二次元bot词库5千词V1.2.xlsx',header=None, sheet_name=0)\n",
    "data = pd.read_excel(r\"D:\\temp\\Downloads\\傲娇系二次元bot词库5千词V1.2.xlsx\",header=None, sheet_name=0)\n",
    "for index,row in data.iterrows():\n",
    "    if row[0] in map:\n",
    "        map[row[0]].append(row[1])\n",
    "    else:\n",
    "        map[row[0]] = [row[1]]\n",
    "from service.MatchSys.trainer import QATrainer\n",
    "trainer = QATrainer(ms)\n"
   ]
  },
  {
   "cell_type": "code",
   "execution_count": null,
   "metadata": {},
   "outputs": [],
   "source": [
    "trainer.train(map)"
   ]
  },
  {
   "cell_type": "code",
   "execution_count": 2,
   "metadata": {},
   "outputs": [
    {
     "name": "stdout",
     "output_type": "stream",
     "text": [
      "<class 'service.MatchSys.object_definition.Statement'>\n",
      "{'code': '401'}\n"
     ]
    },
    {
     "ename": "AttributeError",
     "evalue": "'MatchSys' object has no attribute 'message_adapter'",
     "output_type": "error",
     "traceback": [
      "\u001b[1;31m---------------------------------------------------------------------------\u001b[0m",
      "\u001b[1;31mAttributeError\u001b[0m                            Traceback (most recent call last)",
      "\u001b[1;32md:\\Code\\MyLongTimeProject\\A\\QQ-Bot-And-Tool\\match_sys_test.ipynb Cell 4\u001b[0m line \u001b[0;36m1\n\u001b[1;32m----> <a href='vscode-notebook-cell:/d%3A/Code/MyLongTimeProject/A/QQ-Bot-And-Tool/match_sys_test.ipynb#W3sZmlsZQ%3D%3D?line=0'>1</a>\u001b[0m ms\u001b[39m.\u001b[39;49mget_response(\u001b[39m'\u001b[39;49m\u001b[39m石家庄天气怎么样\u001b[39;49m\u001b[39m'\u001b[39;49m)\n",
      "File \u001b[1;32md:\\Code\\MyLongTimeProject\\A\\QQ-Bot-And-Tool\\service\\MatchSys\\match_sys.py:180\u001b[0m, in \u001b[0;36mMatchSys.get_response\u001b[1;34m(self, message, **kwargs)\u001b[0m\n\u001b[0;32m    178\u001b[0m \u001b[39mfor\u001b[39;00m handle \u001b[39min\u001b[39;00m \u001b[39mself\u001b[39m\u001b[39m.\u001b[39mcommand_handles:\n\u001b[0;32m    179\u001b[0m     \u001b[39mif\u001b[39;00m handle\u001b[39m.\u001b[39mcheck_power(input_statement) \u001b[39mand\u001b[39;00m handle\u001b[39m.\u001b[39mmatch(input_statement):\n\u001b[1;32m--> 180\u001b[0m         response \u001b[39m=\u001b[39m  handle\u001b[39m.\u001b[39;49mhandle(input_statement,\u001b[39mself\u001b[39;49m)\n\u001b[0;32m    181\u001b[0m         \u001b[39mself\u001b[39m\u001b[39m.\u001b[39mhistory[\u001b[39m0\u001b[39m]\u001b[39m.\u001b[39mnext_id \u001b[39m=\u001b[39m response\u001b[39m.\u001b[39mid\n\u001b[0;32m    183\u001b[0m \u001b[39mif\u001b[39;00m response \u001b[39mis\u001b[39;00m \u001b[39mNone\u001b[39;00m:\n",
      "File \u001b[1;32md:\\Code\\MyLongTimeProject\\A\\QQ-Bot-And-Tool\\service\\MatchSys\\match_sys.py:51\u001b[0m, in \u001b[0;36mHandleFunction.handle\u001b[1;34m(self, input_statement, matchsys)\u001b[0m\n\u001b[0;32m     49\u001b[0m     res \u001b[39m=\u001b[39m \u001b[39mstr\u001b[39m(e)\n\u001b[0;32m     50\u001b[0m \u001b[39mif\u001b[39;00m \u001b[39misinstance\u001b[39m(res, \u001b[39mstr\u001b[39m):\n\u001b[1;32m---> 51\u001b[0m     response \u001b[39m=\u001b[39m matchsys\u001b[39m.\u001b[39;49mmessage_adapter\u001b[39m.\u001b[39mtext_process(res)\n\u001b[0;32m     52\u001b[0m     response\u001b[39m.\u001b[39mid \u001b[39m=\u001b[39m matchsys\u001b[39m.\u001b[39msnowflake\u001b[39m.\u001b[39mget_id(),\n\u001b[0;32m     53\u001b[0m     response\u001b[39m.\u001b[39mpersona\u001b[39m=\u001b[39m\u001b[39m'\u001b[39m\u001b[39mbot:\u001b[39m\u001b[39m'\u001b[39m \u001b[39m+\u001b[39m matchsys\u001b[39m.\u001b[39mname\n",
      "\u001b[1;31mAttributeError\u001b[0m: 'MatchSys' object has no attribute 'message_adapter'"
     ]
    }
   ],
   "source": [
    "ms.get_response('石家庄天气怎么样')"
   ]
  },
  {
   "cell_type": "code",
   "execution_count": 3,
   "metadata": {},
   "outputs": [
    {
     "name": "stdout",
     "output_type": "stream",
     "text": [
      "1\n",
      "2\n",
      "3\n",
      "4\n",
      "5\n"
     ]
    }
   ],
   "source": []
  }
 ],
 "metadata": {
  "kernelspec": {
   "display_name": "base",
   "language": "python",
   "name": "python3"
  },
  "language_info": {
   "codemirror_mode": {
    "name": "ipython",
    "version": 3
   },
   "file_extension": ".py",
   "mimetype": "text/x-python",
   "name": "python",
   "nbconvert_exporter": "python",
   "pygments_lexer": "ipython3",
   "version": "3.11.5"
  }
 },
 "nbformat": 4,
 "nbformat_minor": 2
}
