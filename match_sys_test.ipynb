{
 "cells": [
  {
   "cell_type": "code",
   "execution_count": 1,
   "metadata": {},
   "outputs": [
    {
     "name": "stdout",
     "output_type": "stream",
     "text": [
      "1713719049302712320\n"
     ]
    },
    {
     "ename": "HFValidationError",
     "evalue": "Repo id must use alphanumeric chars or '-', '_', '.', '--' and '..' are forbidden, '-' and '.' cannot start or end the name, max length is 96: 'C:\\Users\\Administrator\\Documents\\GitHub\\QQ-Bot-And-Tool\\data\\LtpModel'.",
     "output_type": "error",
     "traceback": [
      "\u001b[1;31m---------------------------------------------------------------------------\u001b[0m",
      "\u001b[1;31mHFValidationError\u001b[0m                         Traceback (most recent call last)",
      "\u001b[1;32md:\\Code\\MyLongTimeProject\\A\\QQ-Bot-And-Tool\\match_sys_test.ipynb Cell 1\u001b[0m line \u001b[0;36m4\n\u001b[0;32m      <a href='vscode-notebook-cell:/d%3A/Code/MyLongTimeProject/A/QQ-Bot-And-Tool/match_sys_test.ipynb#W0sZmlsZQ%3D%3D?line=1'>2</a>\u001b[0m \u001b[39mfrom\u001b[39;00m \u001b[39mservice\u001b[39;00m \u001b[39mimport\u001b[39;00m config\n\u001b[0;32m      <a href='vscode-notebook-cell:/d%3A/Code/MyLongTimeProject/A/QQ-Bot-And-Tool/match_sys_test.ipynb#W0sZmlsZQ%3D%3D?line=2'>3</a>\u001b[0m config\u001b[39m.\u001b[39minitialize()\n\u001b[1;32m----> <a href='vscode-notebook-cell:/d%3A/Code/MyLongTimeProject/A/QQ-Bot-And-Tool/match_sys_test.ipynb#W0sZmlsZQ%3D%3D?line=3'>4</a>\u001b[0m ms \u001b[39m=\u001b[39m MatchSys(\n\u001b[0;32m      <a href='vscode-notebook-cell:/d%3A/Code/MyLongTimeProject/A/QQ-Bot-And-Tool/match_sys_test.ipynb#W0sZmlsZQ%3D%3D?line=4'>5</a>\u001b[0m         name\u001b[39m=\u001b[39;49m\u001b[39m'\u001b[39;49m\u001b[39mteat_sys\u001b[39;49m\u001b[39m'\u001b[39;49m,\n\u001b[0;32m      <a href='vscode-notebook-cell:/d%3A/Code/MyLongTimeProject/A/QQ-Bot-And-Tool/match_sys_test.ipynb#W0sZmlsZQ%3D%3D?line=5'>6</a>\u001b[0m         ltp_model_path\u001b[39m=\u001b[39;49m\u001b[39mr\u001b[39;49m\u001b[39m'\u001b[39;49m\u001b[39mC:\u001b[39;49m\u001b[39m\\\u001b[39;49m\u001b[39mUsers\u001b[39;49m\u001b[39m\\\u001b[39;49m\u001b[39mAdministrator\u001b[39;49m\u001b[39m\\\u001b[39;49m\u001b[39mDocuments\u001b[39;49m\u001b[39m\\\u001b[39;49m\u001b[39mGitHub\u001b[39;49m\u001b[39m\\\u001b[39;49m\u001b[39mQQ-Bot-And-Tool\u001b[39;49m\u001b[39m\\\u001b[39;49m\u001b[39mdata\u001b[39;49m\u001b[39m\\\u001b[39;49m\u001b[39mLtpModel\u001b[39;49m\u001b[39m'\u001b[39;49m,\n\u001b[0;32m      <a href='vscode-notebook-cell:/d%3A/Code/MyLongTimeProject/A/QQ-Bot-And-Tool/match_sys_test.ipynb#W0sZmlsZQ%3D%3D?line=6'>7</a>\u001b[0m         database_uri\u001b[39m=\u001b[39;49m\u001b[39m'\u001b[39;49m\u001b[39msqlite:///data/db.sqlite3\u001b[39;49m\u001b[39m'\u001b[39;49m,\n\u001b[0;32m      <a href='vscode-notebook-cell:/d%3A/Code/MyLongTimeProject/A/QQ-Bot-And-Tool/match_sys_test.ipynb#W0sZmlsZQ%3D%3D?line=7'>8</a>\u001b[0m         text_vec_model_path\u001b[39m=\u001b[39;49m\u001b[39mr\u001b[39;49m\u001b[39m'\u001b[39;49m\u001b[39mC:\u001b[39;49m\u001b[39m\\\u001b[39;49m\u001b[39mUsers\u001b[39;49m\u001b[39m\\\u001b[39;49m\u001b[39mAdministrator\u001b[39;49m\u001b[39m\\\u001b[39;49m\u001b[39mDocuments\u001b[39;49m\u001b[39m\\\u001b[39;49m\u001b[39mGitHub\u001b[39;49m\u001b[39m\\\u001b[39;49m\u001b[39mQQ-Bot-And-Tool\u001b[39;49m\u001b[39m\\\u001b[39;49m\u001b[39mdata\u001b[39;49m\u001b[39m\\\u001b[39;49m\u001b[39mmodel.pkl\u001b[39;49m\u001b[39m'\u001b[39;49m\n\u001b[0;32m      <a href='vscode-notebook-cell:/d%3A/Code/MyLongTimeProject/A/QQ-Bot-And-Tool/match_sys_test.ipynb#W0sZmlsZQ%3D%3D?line=8'>9</a>\u001b[0m     )\n",
      "File \u001b[1;32md:\\Code\\MyLongTimeProject\\A\\QQ-Bot-And-Tool\\service\\MatchSys\\match_sys.py:77\u001b[0m, in \u001b[0;36mMatchSys.__init__\u001b[1;34m(self, name, **kwargs)\u001b[0m\n\u001b[0;32m     75\u001b[0m \u001b[39m# ltp tool\u001b[39;00m\n\u001b[0;32m     76\u001b[0m ltp_model_path \u001b[39m=\u001b[39m kwargs\u001b[39m.\u001b[39mget(\u001b[39m'\u001b[39m\u001b[39mltp_model_path\u001b[39m\u001b[39m'\u001b[39m, \u001b[39m'\u001b[39m\u001b[39mLTP/small\u001b[39m\u001b[39m'\u001b[39m)\n\u001b[1;32m---> 77\u001b[0m kwargs[\u001b[39m'\u001b[39m\u001b[39mltp\u001b[39m\u001b[39m'\u001b[39m] \u001b[39m=\u001b[39m LTP(ltp_model_path)\n\u001b[0;32m     79\u001b[0m \u001b[39m# 初始化预处理程序\u001b[39;00m\n\u001b[0;32m     80\u001b[0m \u001b[39m# preprocessors = kwargs.get('preprocessors', ['jionlp.clean_text'])\u001b[39;00m\n\u001b[0;32m     81\u001b[0m \u001b[39m# self.preprocessors = []\u001b[39;00m\n\u001b[1;32m   (...)\u001b[0m\n\u001b[0;32m     85\u001b[0m \n\u001b[0;32m     86\u001b[0m \u001b[39m# 初始化消息处理器\u001b[39;00m\n\u001b[0;32m     87\u001b[0m message_adapter_name \u001b[39m=\u001b[39m kwargs\u001b[39m.\u001b[39mget(\u001b[39m'\u001b[39m\u001b[39mmessage_adapter\u001b[39m\u001b[39m'\u001b[39m, \u001b[39m'\u001b[39m\u001b[39mservice.MatchSys.message_adapter.TextMessageAdapter\u001b[39m\u001b[39m'\u001b[39m)\n",
      "File \u001b[1;32md:\\APP\\CodeUse\\Anaconda3\\lib\\site-packages\\ltp\\interface.py:102\u001b[0m, in \u001b[0;36mLTP\u001b[1;34m(pretrained_model_name_or_path, force_download, resume_download, proxies, use_auth_token, cache_dir, local_files_only, **model_kwargs)\u001b[0m\n\u001b[0;32m     99\u001b[0m \u001b[39mfrom\u001b[39;00m \u001b[39mrequests\u001b[39;00m \u001b[39mimport\u001b[39;00m RequestException\n\u001b[0;32m    101\u001b[0m \u001b[39mtry\u001b[39;00m:\n\u001b[1;32m--> 102\u001b[0m     config_file \u001b[39m=\u001b[39m hf_hub_download(\n\u001b[0;32m    103\u001b[0m         repo_id\u001b[39m=\u001b[39;49mmodel_id,\n\u001b[0;32m    104\u001b[0m         filename\u001b[39m=\u001b[39;49mCONFIG_NAME,\n\u001b[0;32m    105\u001b[0m         revision\u001b[39m=\u001b[39;49mrevision,\n\u001b[0;32m    106\u001b[0m         cache_dir\u001b[39m=\u001b[39;49mcache_dir,\n\u001b[0;32m    107\u001b[0m         force_download\u001b[39m=\u001b[39;49mforce_download,\n\u001b[0;32m    108\u001b[0m         proxies\u001b[39m=\u001b[39;49mproxies,\n\u001b[0;32m    109\u001b[0m         resume_download\u001b[39m=\u001b[39;49mresume_download,\n\u001b[0;32m    110\u001b[0m         use_auth_token\u001b[39m=\u001b[39;49muse_auth_token,\n\u001b[0;32m    111\u001b[0m         local_files_only\u001b[39m=\u001b[39;49mlocal_files_only,\n\u001b[0;32m    112\u001b[0m     )\n\u001b[0;32m    113\u001b[0m \u001b[39mexcept\u001b[39;00m RequestException:\n\u001b[0;32m    114\u001b[0m     logger\u001b[39m.\u001b[39mwarning(\u001b[39mf\u001b[39m\u001b[39m\"\u001b[39m\u001b[39m{\u001b[39;00mCONFIG_NAME\u001b[39m}\u001b[39;00m\u001b[39m not found in HuggingFace Hub\u001b[39m\u001b[39m\"\u001b[39m)\n",
      "File \u001b[1;32md:\\APP\\CodeUse\\Anaconda3\\lib\\site-packages\\huggingface_hub\\utils\\_validators.py:110\u001b[0m, in \u001b[0;36mvalidate_hf_hub_args.<locals>._inner_fn\u001b[1;34m(*args, **kwargs)\u001b[0m\n\u001b[0;32m    105\u001b[0m \u001b[39mfor\u001b[39;00m arg_name, arg_value \u001b[39min\u001b[39;00m chain(\n\u001b[0;32m    106\u001b[0m     \u001b[39mzip\u001b[39m(signature\u001b[39m.\u001b[39mparameters, args),  \u001b[39m# Args values\u001b[39;00m\n\u001b[0;32m    107\u001b[0m     kwargs\u001b[39m.\u001b[39mitems(),  \u001b[39m# Kwargs values\u001b[39;00m\n\u001b[0;32m    108\u001b[0m ):\n\u001b[0;32m    109\u001b[0m     \u001b[39mif\u001b[39;00m arg_name \u001b[39min\u001b[39;00m [\u001b[39m\"\u001b[39m\u001b[39mrepo_id\u001b[39m\u001b[39m\"\u001b[39m, \u001b[39m\"\u001b[39m\u001b[39mfrom_id\u001b[39m\u001b[39m\"\u001b[39m, \u001b[39m\"\u001b[39m\u001b[39mto_id\u001b[39m\u001b[39m\"\u001b[39m]:\n\u001b[1;32m--> 110\u001b[0m         validate_repo_id(arg_value)\n\u001b[0;32m    112\u001b[0m     \u001b[39melif\u001b[39;00m arg_name \u001b[39m==\u001b[39m \u001b[39m\"\u001b[39m\u001b[39mtoken\u001b[39m\u001b[39m\"\u001b[39m \u001b[39mand\u001b[39;00m arg_value \u001b[39mis\u001b[39;00m \u001b[39mnot\u001b[39;00m \u001b[39mNone\u001b[39;00m:\n\u001b[0;32m    113\u001b[0m         has_token \u001b[39m=\u001b[39m \u001b[39mTrue\u001b[39;00m\n",
      "File \u001b[1;32md:\\APP\\CodeUse\\Anaconda3\\lib\\site-packages\\huggingface_hub\\utils\\_validators.py:164\u001b[0m, in \u001b[0;36mvalidate_repo_id\u001b[1;34m(repo_id)\u001b[0m\n\u001b[0;32m    158\u001b[0m     \u001b[39mraise\u001b[39;00m HFValidationError(\n\u001b[0;32m    159\u001b[0m         \u001b[39m\"\u001b[39m\u001b[39mRepo id must be in the form \u001b[39m\u001b[39m'\u001b[39m\u001b[39mrepo_name\u001b[39m\u001b[39m'\u001b[39m\u001b[39m or \u001b[39m\u001b[39m'\u001b[39m\u001b[39mnamespace/repo_name\u001b[39m\u001b[39m'\u001b[39m\u001b[39m:\u001b[39m\u001b[39m\"\u001b[39m\n\u001b[0;32m    160\u001b[0m         \u001b[39mf\u001b[39m\u001b[39m\"\u001b[39m\u001b[39m \u001b[39m\u001b[39m'\u001b[39m\u001b[39m{\u001b[39;00mrepo_id\u001b[39m}\u001b[39;00m\u001b[39m'\u001b[39m\u001b[39m. Use `repo_type` argument if needed.\u001b[39m\u001b[39m\"\u001b[39m\n\u001b[0;32m    161\u001b[0m     )\n\u001b[0;32m    163\u001b[0m \u001b[39mif\u001b[39;00m \u001b[39mnot\u001b[39;00m REPO_ID_REGEX\u001b[39m.\u001b[39mmatch(repo_id):\n\u001b[1;32m--> 164\u001b[0m     \u001b[39mraise\u001b[39;00m HFValidationError(\n\u001b[0;32m    165\u001b[0m         \u001b[39m\"\u001b[39m\u001b[39mRepo id must use alphanumeric chars or \u001b[39m\u001b[39m'\u001b[39m\u001b[39m-\u001b[39m\u001b[39m'\u001b[39m\u001b[39m, \u001b[39m\u001b[39m'\u001b[39m\u001b[39m_\u001b[39m\u001b[39m'\u001b[39m\u001b[39m, \u001b[39m\u001b[39m'\u001b[39m\u001b[39m.\u001b[39m\u001b[39m'\u001b[39m\u001b[39m, \u001b[39m\u001b[39m'\u001b[39m\u001b[39m--\u001b[39m\u001b[39m'\u001b[39m\u001b[39m and \u001b[39m\u001b[39m'\u001b[39m\u001b[39m..\u001b[39m\u001b[39m'\u001b[39m\u001b[39m are\u001b[39m\u001b[39m\"\u001b[39m\n\u001b[0;32m    166\u001b[0m         \u001b[39m\"\u001b[39m\u001b[39m forbidden, \u001b[39m\u001b[39m'\u001b[39m\u001b[39m-\u001b[39m\u001b[39m'\u001b[39m\u001b[39m and \u001b[39m\u001b[39m'\u001b[39m\u001b[39m.\u001b[39m\u001b[39m'\u001b[39m\u001b[39m cannot start or end the name, max length is 96:\u001b[39m\u001b[39m\"\u001b[39m\n\u001b[0;32m    167\u001b[0m         \u001b[39mf\u001b[39m\u001b[39m\"\u001b[39m\u001b[39m \u001b[39m\u001b[39m'\u001b[39m\u001b[39m{\u001b[39;00mrepo_id\u001b[39m}\u001b[39;00m\u001b[39m'\u001b[39m\u001b[39m.\u001b[39m\u001b[39m\"\u001b[39m\n\u001b[0;32m    168\u001b[0m     )\n\u001b[0;32m    170\u001b[0m \u001b[39mif\u001b[39;00m \u001b[39m\"\u001b[39m\u001b[39m--\u001b[39m\u001b[39m\"\u001b[39m \u001b[39min\u001b[39;00m repo_id \u001b[39mor\u001b[39;00m \u001b[39m\"\u001b[39m\u001b[39m..\u001b[39m\u001b[39m\"\u001b[39m \u001b[39min\u001b[39;00m repo_id:\n\u001b[0;32m    171\u001b[0m     \u001b[39mraise\u001b[39;00m HFValidationError(\u001b[39mf\u001b[39m\u001b[39m\"\u001b[39m\u001b[39mCannot have -- or .. in repo_id: \u001b[39m\u001b[39m'\u001b[39m\u001b[39m{\u001b[39;00mrepo_id\u001b[39m}\u001b[39;00m\u001b[39m'\u001b[39m\u001b[39m.\u001b[39m\u001b[39m\"\u001b[39m)\n",
      "\u001b[1;31mHFValidationError\u001b[0m: Repo id must use alphanumeric chars or '-', '_', '.', '--' and '..' are forbidden, '-' and '.' cannot start or end the name, max length is 96: 'C:\\Users\\Administrator\\Documents\\GitHub\\QQ-Bot-And-Tool\\data\\LtpModel'."
     ]
    }
   ],
   "source": [
    "from service.MatchSys.match_sys import MatchSys\n",
    "from service import config\n",
    "config.initialize()\n",
    "ms = MatchSys(\n",
    "        name='teat_sys',\n",
    "        ltp_model_path=r'D:\\Code\\MyLongTimeProject\\A\\QQ-Bot-And-Tool\\data\\LtpModel',\n",
    "        database_uri='sqlite:///data/db.sqlite3',\n",
    "        text_vec_model_path=r'D:\\Code\\MyLongTimeProject\\A\\QQ-Bot-And-Tool\\data\\model.pkl'\n",
    "    )"
   ]
  },
  {
   "cell_type": "code",
   "execution_count": 2,
   "metadata": {},
   "outputs": [],
   "source": [
    "from service.MatchSys.trainers import Trainer\n",
    "from service.MatchSys.utils import print_progress_bar\n",
    "\n",
    "\n",
    "class QATrainer(Trainer):\n",
    "    \"\"\"\n",
    "    Allows a chat bot to be trained using a list of strings\n",
    "    where the list represents a conversation.\n",
    "    \"\"\"\n",
    "\n",
    "    def train(self, conversation, **kwargs):\n",
    "        \"\"\"\n",
    "        {Q:[A1,A2...]}\n",
    "        Train the chat bot based on the provided list of\n",
    "        statements that represents a single conversation.\n",
    "        \"\"\"\n",
    "        source = kwargs.get('source', 'TRAIN_DATA')\n",
    "        conversation_text = kwargs.get('conversation', 'TRAIN_DATA')\n",
    "        statements_to_create = []\n",
    "        previous_id = 0\n",
    "        next_id = 0\n",
    "        input_statements = self.chatbot.message_adapter.process_list(list(conversation.keys()),**kwargs)\n",
    "        for index,input_statement in enumerate(input_statements):\n",
    "                if self.show_training_progress:\n",
    "                    print_progress_bar(\n",
    "                        'QA Trainer',\n",
    "                        index + 1, len(conversation)\n",
    "                    )\n",
    "                try:\n",
    "                    statements_to_create.append(input_statement)\n",
    "                    kwargs['id'] = next_id\n",
    "                    kwargs['type_of'] = 'A'\n",
    "                    kwargs['persona'] = 'bot:'+self.chatbot.name\n",
    "                    for statement in  self.chatbot.message_adapter.process_list(conversation[input_statement.text],**kwargs):\n",
    "\n",
    "                        statements_to_create.append(statement)\n",
    "                except Exception as e:\n",
    "                    print(statement)\n",
    "        self.chatbot.storage.create_many(statements_to_create)\n",
    "        self.chatbot.docvector_tool.train(statements_to_create)"
   ]
  },
  {
   "cell_type": "code",
   "execution_count": 3,
   "metadata": {},
   "outputs": [],
   "source": [
    "import pandas as pd\n",
    "map = {}\n",
    "data = pd.read_excel(r'C:\\Users\\Administrator\\Documents\\GitHub\\QQ-Bot-And-Tool\\data\\FixedReply\\傲娇系二次元bot词库5千词V1.2.xlsx',header=None, sheet_name=0)\n",
    "for index,row in data.iterrows():\n",
    "    if row[0] in map:\n",
    "        map[row[0]].append(row[1])\n",
    "    else:\n",
    "        map[row[0]] = [row[1]]"
   ]
  },
  {
   "cell_type": "code",
   "execution_count": 4,
   "metadata": {},
   "outputs": [],
   "source": [
    "trainer = QATrainer(ms)"
   ]
  },
  {
   "cell_type": "code",
   "execution_count": 5,
   "metadata": {},
   "outputs": [
    {
     "name": "stdout",
     "output_type": "stream",
     "text": [
      "QA Trainer: [####################] 100%\n"
     ]
    },
    {
     "ename": "AttributeError",
     "evalue": "'Statement' object has no attribute 'snowkey'",
     "output_type": "error",
     "traceback": [
      "\u001b[1;31m---------------------------------------------------------------------------\u001b[0m",
      "\u001b[1;31mAttributeError\u001b[0m                            Traceback (most recent call last)",
      "\u001b[1;32mc:\\Users\\Administrator\\Documents\\GitHub\\QQ-Bot-And-Tool\\match_sys_test.ipynb Cell 5\u001b[0m line \u001b[0;36m1\n\u001b[1;32m----> <a href='vscode-notebook-cell:/c%3A/Users/Administrator/Documents/GitHub/QQ-Bot-And-Tool/match_sys_test.ipynb#X10sZmlsZQ%3D%3D?line=0'>1</a>\u001b[0m trainer\u001b[39m.\u001b[39mtrain(\u001b[39mmap\u001b[39m)\n",
      "\u001b[1;32mc:\\Users\\Administrator\\Documents\\GitHub\\QQ-Bot-And-Tool\\match_sys_test.ipynb Cell 5\u001b[0m line \u001b[0;36m4\n\u001b[0;32m     <a href='vscode-notebook-cell:/c%3A/Users/Administrator/Documents/GitHub/QQ-Bot-And-Tool/match_sys_test.ipynb#X10sZmlsZQ%3D%3D?line=37'>38</a>\u001b[0m             \u001b[39mprint\u001b[39m(statement)\n\u001b[0;32m     <a href='vscode-notebook-cell:/c%3A/Users/Administrator/Documents/GitHub/QQ-Bot-And-Tool/match_sys_test.ipynb#X10sZmlsZQ%3D%3D?line=38'>39</a>\u001b[0m \u001b[39mself\u001b[39m\u001b[39m.\u001b[39mchatbot\u001b[39m.\u001b[39mstorage\u001b[39m.\u001b[39mcreate_many(statements_to_create)\n\u001b[1;32m---> <a href='vscode-notebook-cell:/c%3A/Users/Administrator/Documents/GitHub/QQ-Bot-And-Tool/match_sys_test.ipynb#X10sZmlsZQ%3D%3D?line=39'>40</a>\u001b[0m \u001b[39mself\u001b[39m\u001b[39m.\u001b[39mchatbot\u001b[39m.\u001b[39mdocvector_tool\u001b[39m.\u001b[39mtrain(statements_to_create)\n",
      "File \u001b[1;32mc:\\Users\\Administrator\\Documents\\GitHub\\QQ-Bot-And-Tool\\service\\MatchSys\\utils\\doc_vec_tool.py:30\u001b[0m, in \u001b[0;36mDoc2VecTool.train\u001b[1;34m(self, statements)\u001b[0m\n\u001b[0;32m     28\u001b[0m     \u001b[39mself\u001b[39m\u001b[39m.\u001b[39mupdate_model(statements)\n\u001b[0;32m     29\u001b[0m \u001b[39melse\u001b[39;00m:\n\u001b[1;32m---> 30\u001b[0m     \u001b[39mself\u001b[39m\u001b[39m.\u001b[39mtrain_model(statements)\n",
      "File \u001b[1;32mc:\\Users\\Administrator\\Documents\\GitHub\\QQ-Bot-And-Tool\\service\\MatchSys\\utils\\doc_vec_tool.py:47\u001b[0m, in \u001b[0;36mDoc2VecTool.train_model\u001b[1;34m(self, statements)\u001b[0m\n\u001b[0;32m     44\u001b[0m \u001b[39mdef\u001b[39;00m \u001b[39mtrain_model\u001b[39m(\u001b[39mself\u001b[39m, statements):\n\u001b[0;32m     45\u001b[0m     \u001b[39mfrom\u001b[39;00m \u001b[39mgensim\u001b[39;00m\u001b[39m.\u001b[39;00m\u001b[39mmodels\u001b[39;00m \u001b[39mimport\u001b[39;00m Doc2Vec\n\u001b[1;32m---> 47\u001b[0m     tokenized \u001b[39m=\u001b[39m \u001b[39mself\u001b[39m\u001b[39m.\u001b[39mbuild_tokenzied(statements)\n\u001b[0;32m     49\u001b[0m     \u001b[39mself\u001b[39m\u001b[39m.\u001b[39mmodel \u001b[39m=\u001b[39m Doc2Vec(tokenized,min_count\u001b[39m=\u001b[39m\u001b[39m1\u001b[39m,window\u001b[39m=\u001b[39m\u001b[39m4\u001b[39m,sample\u001b[39m=\u001b[39m\u001b[39m1e-3\u001b[39m,negative\u001b[39m=\u001b[39m\u001b[39m5\u001b[39m,workers\u001b[39m=\u001b[39m\u001b[39m4\u001b[39m)\n\u001b[0;32m     50\u001b[0m     \u001b[39mself\u001b[39m\u001b[39m.\u001b[39mmodel\u001b[39m.\u001b[39mtrain(tokenized,total_examples\u001b[39m=\u001b[39m\u001b[39mself\u001b[39m\u001b[39m.\u001b[39mmodel\u001b[39m.\u001b[39mcorpus_count,epochs\u001b[39m=\u001b[39m\u001b[39m100\u001b[39m)\n",
      "File \u001b[1;32mc:\\Users\\Administrator\\Documents\\GitHub\\QQ-Bot-And-Tool\\service\\MatchSys\\utils\\doc_vec_tool.py:40\u001b[0m, in \u001b[0;36mDoc2VecTool.build_tokenzied\u001b[1;34m(self, statements)\u001b[0m\n\u001b[0;32m     38\u001b[0m     statement_data \u001b[39m=\u001b[39m statement\u001b[39m.\u001b[39mserialize()\n\u001b[0;32m     39\u001b[0m     statement_model_object \u001b[39m=\u001b[39m Statement(\u001b[39m*\u001b[39m\u001b[39m*\u001b[39mstatement_data)\n\u001b[1;32m---> 40\u001b[0m     \u001b[39mif\u001b[39;00m statement_model_object\u001b[39m.\u001b[39msnowkey \u001b[39m>\u001b[39m \u001b[39m0\u001b[39m:\n\u001b[0;32m     41\u001b[0m         tokenized\u001b[39m.\u001b[39mappend(TaggedDocument(statement_model_object\u001b[39m.\u001b[39msearch_text\u001b[39m.\u001b[39msplit(\u001b[39m'\u001b[39m\u001b[39m \u001b[39m\u001b[39m'\u001b[39m),tags\u001b[39m=\u001b[39m[statement_model_object\u001b[39m.\u001b[39msnowkey]))\n\u001b[0;32m     42\u001b[0m \u001b[39mreturn\u001b[39;00m tokenized\n",
      "\u001b[1;31mAttributeError\u001b[0m: 'Statement' object has no attribute 'snowkey'"
     ]
    }
   ],
   "source": [
    "trainer.train(map)"
   ]
  },
  {
   "cell_type": "code",
   "execution_count": null,
   "metadata": {},
   "outputs": [],
   "source": [
    "res = ms.get_response('你')"
   ]
  },
  {
   "cell_type": "code",
   "execution_count": null,
   "metadata": {},
   "outputs": [],
   "source": [
    "res[0].id"
   ]
  },
  {
   "cell_type": "code",
   "execution_count": null,
   "metadata": {},
   "outputs": [],
   "source": []
  }
 ],
 "metadata": {
  "kernelspec": {
   "display_name": "base",
   "language": "python",
   "name": "python3"
  },
  "language_info": {
   "codemirror_mode": {
    "name": "ipython",
    "version": 3
   },
   "file_extension": ".py",
   "mimetype": "text/x-python",
   "name": "python",
   "nbconvert_exporter": "python",
   "pygments_lexer": "ipython3",
   "version": "3.10.13"
  }
 },
 "nbformat": 4,
 "nbformat_minor": 2
}
